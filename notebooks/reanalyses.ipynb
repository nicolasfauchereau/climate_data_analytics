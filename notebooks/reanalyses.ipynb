{
 "cells": [
  {
   "cell_type": "markdown",
   "id": "9956b8b1-1ddf-455b-a887-ca32593fede2",
   "metadata": {},
   "source": [
    "## Accessing reanalysis data with xarray"
   ]
  },
  {
   "cell_type": "markdown",
   "id": "ff9e0bc5-a23c-4b56-b168-a82677754440",
   "metadata": {},
   "source": [
    "### imports "
   ]
  },
  {
   "cell_type": "code",
   "execution_count": null,
   "id": "590effd9-d9d3-4add-aeca-3b1ad9bc122d",
   "metadata": {},
   "outputs": [],
   "source": [
    "%matplotlib inline\n",
    "from matplotlib import pyplot as plt"
   ]
  },
  {
   "cell_type": "code",
   "execution_count": null,
   "id": "e382ed53-f449-4e5a-8fba-2569af07d9ab",
   "metadata": {},
   "outputs": [],
   "source": [
    "plt.rcParams['figure.figsize'] = (10,5)\n",
    "plt.rcParams['font.size'] = 14\n",
    "plt.rcParams['lines.linewidth'] = 2"
   ]
  },
  {
   "cell_type": "code",
   "execution_count": null,
   "id": "c1a35a02-c219-417c-b595-b6f36f53c085",
   "metadata": {},
   "outputs": [],
   "source": [
    "from tqdm.notebook import tqdm_notebook"
   ]
  },
  {
   "cell_type": "code",
   "execution_count": null,
   "id": "094a5263-4e5b-4b14-bccf-07f42588b928",
   "metadata": {},
   "outputs": [],
   "source": [
    "import io\n",
    "import requests \n",
    "import pathlib"
   ]
  },
  {
   "cell_type": "code",
   "execution_count": null,
   "id": "82f9c971-8b4e-4b09-86a3-3037d36bb69f",
   "metadata": {},
   "outputs": [],
   "source": [
    "import xarray as xr\n",
    "from cartopy import crs as ccrs\n",
    "from dask.distributed import Client, LocalCluster\n",
    "from dask.diagnostics import ProgressBar"
   ]
  },
  {
   "cell_type": "code",
   "execution_count": null,
   "id": "8b830274-7047-414f-b6dc-3ba52aaceed8",
   "metadata": {},
   "outputs": [],
   "source": [
    "import numpy as np \n",
    "import pandas as pd"
   ]
  },
  {
   "cell_type": "code",
   "execution_count": null,
   "id": "f28a0ffe-8168-4d6e-8b13-e12349713006",
   "metadata": {},
   "outputs": [],
   "source": [
    "# cluster = LocalCluster(\n",
    "#     n_workers=6,\n",
    "#     threads_per_worker=1,\n",
    "#     memory_limit=\"4GiB\",\n",
    "#     processes=True,\n",
    "# )\n",
    "\n",
    "# client = Client(cluster)\n",
    "\n",
    "# client "
   ]
  },
  {
   "cell_type": "markdown",
   "id": "b0fbffd3-97ec-4d40-99df-28902e0345ca",
   "metadata": {},
   "source": [
    "### Monthly NCEP / NCAR reanalysis, via HTTPS "
   ]
  },
  {
   "cell_type": "markdown",
   "id": "82617ad3-4baa-40f3-b7f3-249635f8ea96",
   "metadata": {},
   "source": [
    "start here: https://downloads.psl.noaa.gov/Datasets/ncep.reanalysis.derived/ "
   ]
  },
  {
   "cell_type": "code",
   "execution_count": null,
   "id": "1b9975b4-ddf3-4ec1-84be-a06fce0fc2f6",
   "metadata": {},
   "outputs": [],
   "source": [
    "url = 'https://downloads.psl.noaa.gov/Datasets/ncep.reanalysis.derived/surface/air.mon.mean.nc'"
   ]
  },
  {
   "cell_type": "code",
   "execution_count": null,
   "id": "306978d6-ff2b-471f-bacf-03b8922826e9",
   "metadata": {},
   "outputs": [],
   "source": [
    "# xr.open_dataset(url)"
   ]
  },
  {
   "cell_type": "code",
   "execution_count": null,
   "id": "0ebfae38-1940-4d20-8378-86fee83aad9d",
   "metadata": {},
   "outputs": [],
   "source": [
    "with requests.get(url) as r:\n",
    "    dset = xr.open_dataset(io.BytesIO(r.content))"
   ]
  },
  {
   "cell_type": "code",
   "execution_count": null,
   "id": "79fb0a94-3629-4750-b072-5cce41319c76",
   "metadata": {},
   "outputs": [],
   "source": [
    "dset"
   ]
  },
  {
   "cell_type": "code",
   "execution_count": null,
   "id": "e76a64bc-51d7-4adc-b7f6-46788a989bc5",
   "metadata": {},
   "outputs": [],
   "source": [
    "dset.close()"
   ]
  },
  {
   "cell_type": "markdown",
   "id": "42e077ab-a6fa-4284-b578-fe5b0f5241ed",
   "metadata": {},
   "source": [
    "### OpenDAP protocol, served by the PSL Thredds server "
   ]
  },
  {
   "cell_type": "markdown",
   "id": "0a2f49ac-b30a-4d69-b071-bb5a32960e96",
   "metadata": {},
   "source": [
    "see catalog: [https://psl.noaa.gov/thredds/catalog/Datasets/catalog.html](https://psl.noaa.gov/thredds/catalog/Datasets/catalog.html)"
   ]
  },
  {
   "cell_type": "code",
   "execution_count": null,
   "id": "ffc5d8f1-5091-4d3a-a8cd-5bcaf41a1c6e",
   "metadata": {},
   "outputs": [],
   "source": [
    "url = 'https://psl.noaa.gov/thredds/dodsC/Datasets/ncep.reanalysis.derived/surface/air.mon.mean.nc'"
   ]
  },
  {
   "cell_type": "code",
   "execution_count": null,
   "id": "c990cbd3-2508-43c4-9067-caab3c6af373",
   "metadata": {},
   "outputs": [],
   "source": [
    "dset = xr.open_dataset(url)"
   ]
  },
  {
   "cell_type": "code",
   "execution_count": null,
   "id": "e9e4ccd2-3109-4c51-9f43-5d574f9ad8ed",
   "metadata": {},
   "outputs": [],
   "source": [
    "dset"
   ]
  },
  {
   "cell_type": "code",
   "execution_count": null,
   "id": "3ecd5e15-747d-4db1-b88c-92a486c64d3b",
   "metadata": {},
   "outputs": [],
   "source": [
    "dset.close()"
   ]
  },
  {
   "cell_type": "markdown",
   "id": "76042650-6f65-47b6-941b-eede1b6523a4",
   "metadata": {},
   "source": [
    "### dataset split between multiple files: daily reanalyses via OpenDAP"
   ]
  },
  {
   "cell_type": "markdown",
   "id": "4ee3e290-6ca6-4fd3-958d-7b1438b67c13",
   "metadata": {},
   "source": [
    "see: [https://psl.noaa.gov/thredds/catalog/Datasets/ncep.reanalysis.dailyavgs/surface/catalog.html](https://psl.noaa.gov/thredds/catalog/Datasets/ncep.reanalysis.dailyavgs/surface/catalog.html)"
   ]
  },
  {
   "cell_type": "markdown",
   "id": "bce215b9-9f70-4edb-9d3a-b61117ea84cf",
   "metadata": {},
   "source": [
    "each file has the pattern: \n",
    "\n",
    "`https://psl.noaa.gov/thredds/dodsC/Datasets/ncep.reanalysis.dailyavgs/surface/air.sig995.YYYY.nc`"
   ]
  },
  {
   "cell_type": "code",
   "execution_count": null,
   "id": "1a885694-009b-40b9-9c68-83399260dd1e",
   "metadata": {},
   "outputs": [],
   "source": [
    "dset = xr.open_dataset('https://psl.noaa.gov/thredds/dodsC/Datasets/ncep.reanalysis.dailyavgs/surface/air.sig995.2000.nc')"
   ]
  },
  {
   "cell_type": "code",
   "execution_count": null,
   "id": "dab37aca-323b-4cc1-9366-77c39a85c995",
   "metadata": {},
   "outputs": [],
   "source": [
    "dset"
   ]
  },
  {
   "cell_type": "code",
   "execution_count": null,
   "id": "3bb4bff0-30e5-489b-bb43-a04511651e93",
   "metadata": {},
   "outputs": [],
   "source": [
    "dset.close()"
   ]
  },
  {
   "cell_type": "markdown",
   "id": "aaae0775-9598-41a3-87f8-cb43bc61ecf9",
   "metadata": {},
   "source": [
    "#### create a list of URLs "
   ]
  },
  {
   "cell_type": "code",
   "execution_count": null,
   "id": "8be4aadb-e8df-4cee-9053-1091d83e98c6",
   "metadata": {},
   "outputs": [],
   "source": [
    "base_url = 'https://psl.noaa.gov/thredds/dodsC/Datasets/ncep.reanalysis.dailyavgs/surface/air.sig995'"
   ]
  },
  {
   "cell_type": "code",
   "execution_count": null,
   "id": "4f792580-ac5b-499e-9d11-edaac5c72798",
   "metadata": {},
   "outputs": [],
   "source": [
    "list_files = [f'{base_url}.{year}.nc' for year in range(2010, 2021)]"
   ]
  },
  {
   "cell_type": "code",
   "execution_count": null,
   "id": "70460595-5114-4007-ba88-e530278158be",
   "metadata": {},
   "outputs": [],
   "source": [
    "list_files"
   ]
  },
  {
   "cell_type": "markdown",
   "id": "33df7a29-b592-4582-9084-8e867db1f7dc",
   "metadata": {},
   "source": [
    "### open a *multiple files* dataset with `open_mfdataset`"
   ]
  },
  {
   "cell_type": "code",
   "execution_count": null,
   "id": "c564604f-aa8c-4387-8e6c-e921b94ef2cd",
   "metadata": {},
   "outputs": [],
   "source": [
    "dset = xr.open_mfdataset(list_files, parallel=True)"
   ]
  },
  {
   "cell_type": "code",
   "execution_count": null,
   "id": "bd17077b-b001-4cf3-bffa-4c4c6bf956d9",
   "metadata": {},
   "outputs": [],
   "source": [
    "dset = dset.drop('time_bnds')"
   ]
  },
  {
   "cell_type": "code",
   "execution_count": null,
   "id": "446ce9ed-077b-4d1f-bb0c-953bdcd096a3",
   "metadata": {},
   "outputs": [],
   "source": [
    "dset"
   ]
  },
  {
   "cell_type": "code",
   "execution_count": null,
   "id": "0ee1ddd8-0b9a-44bf-a4a5-78f7ece16c7a",
   "metadata": {},
   "outputs": [],
   "source": [
    "dset['air'].isel(time=0).plot()"
   ]
  },
  {
   "cell_type": "markdown",
   "id": "e9e268e8-d3c9-4826-a27c-569630304223",
   "metadata": {},
   "source": [
    "## conversion from Kelvin to Celsius is handled easily "
   ]
  },
  {
   "cell_type": "code",
   "execution_count": null,
   "id": "e532d19a-8edc-4320-8a45-2efd6e19d533",
   "metadata": {},
   "outputs": [],
   "source": [
    "dset['air'] = dset['air'] - 273.15\n",
    "\n",
    "# or \n",
    "\n",
    "# dset['air'] -= 273.15\n"
   ]
  },
  {
   "cell_type": "code",
   "execution_count": null,
   "id": "9277d607-2af1-4454-b066-cece7a60c944",
   "metadata": {},
   "outputs": [],
   "source": [
    "dset['air'].isel(time=0).plot()"
   ]
  },
  {
   "cell_type": "code",
   "execution_count": null,
   "id": "c9ba5179-bdf0-4aa1-9756-373abf3a4091",
   "metadata": {},
   "outputs": [],
   "source": [
    "type(dset.air.data)"
   ]
  },
  {
   "cell_type": "markdown",
   "id": "36e61cb0-3c37-46e6-ada2-cf684d3f0863",
   "metadata": {},
   "source": [
    "### how is the data actually represented ?"
   ]
  },
  {
   "cell_type": "code",
   "execution_count": null,
   "id": "b9b5118e-13bb-4582-a4fc-75d592016086",
   "metadata": {},
   "outputs": [],
   "source": [
    "dset.chunks"
   ]
  },
  {
   "cell_type": "markdown",
   "id": "f97ce50a-e283-4d2d-a581-2dd8b7d43d39",
   "metadata": {},
   "source": [
    "### to calculate the time mean, it is wise to rechunk"
   ]
  },
  {
   "cell_type": "code",
   "execution_count": null,
   "id": "9d77700e-fd80-4ae1-845c-70103fe6257b",
   "metadata": {},
   "outputs": [],
   "source": [
    "dset = dset.chunk({'time':-1, 'lat':10, 'lon':10})"
   ]
  },
  {
   "cell_type": "code",
   "execution_count": null,
   "id": "2917c937-37a9-4e1d-8370-bffae1cb1f8b",
   "metadata": {},
   "outputs": [],
   "source": [
    "dset.chunks"
   ]
  },
  {
   "cell_type": "code",
   "execution_count": null,
   "id": "7321123d-dc37-4999-9f7c-543086a4a00c",
   "metadata": {},
   "outputs": [],
   "source": [
    "dset_ave = dset.mean('time')"
   ]
  },
  {
   "cell_type": "code",
   "execution_count": null,
   "id": "ce62c8fa-1261-4f58-a305-b748a41e8fff",
   "metadata": {},
   "outputs": [],
   "source": [
    "with ProgressBar(): \n",
    "    dset_ave.compute() "
   ]
  },
  {
   "cell_type": "code",
   "execution_count": null,
   "id": "4886e939-b0bb-48c0-9117-cbf4e2b40a56",
   "metadata": {},
   "outputs": [],
   "source": [
    "dset_ave['air'].plot()"
   ]
  },
  {
   "cell_type": "code",
   "execution_count": null,
   "id": "e6eae8b3-cdd7-4ac6-bb84-76e69bf9a4c0",
   "metadata": {},
   "outputs": [],
   "source": [
    "dset_ave.close()\n",
    "dset.close()"
   ]
  },
  {
   "cell_type": "markdown",
   "id": "681ebb12-9165-41aa-9749-d11e6fbec738",
   "metadata": {},
   "source": [
    "### When opening a Multiple File Dataset with `xr.open_mfdataset` you can specify a preprocessing function (e.g. extraction of a geographical domain)"
   ]
  },
  {
   "cell_type": "code",
   "execution_count": null,
   "id": "179775af-ab0d-45aa-aff6-ffd02a5ba5c3",
   "metadata": {},
   "outputs": [],
   "source": [
    "def preprocess(dset): \n",
    "    dset = dset.sortby('lat')\n",
    "    dset = dset.sel(lat=slice(-55, -30), lon=slice(140, 190))\n",
    "    return dset"
   ]
  },
  {
   "cell_type": "code",
   "execution_count": null,
   "id": "516c7f3a-0adf-461c-a7b9-e490dcd4efc8",
   "metadata": {},
   "outputs": [],
   "source": [
    "dset = xr.open_mfdataset(list_files, parallel=True, preprocess=preprocess)"
   ]
  },
  {
   "cell_type": "code",
   "execution_count": null,
   "id": "f995afbc-7d47-4ac9-bc88-071cb3039390",
   "metadata": {},
   "outputs": [],
   "source": [
    "dset.isel(time=0)['air'].plot()"
   ]
  },
  {
   "cell_type": "code",
   "execution_count": null,
   "id": "b12290b6-c4a5-42b3-9c2d-8aadc2d85c8f",
   "metadata": {},
   "outputs": [],
   "source": [
    "dset.close()"
   ]
  },
  {
   "cell_type": "markdown",
   "id": "33446f2a-c435-4287-9df7-31858eb8f233",
   "metadata": {},
   "source": [
    "-----"
   ]
  },
  {
   "cell_type": "markdown",
   "id": "afcf5a81-2dca-4a75-a136-c97dca4cca04",
   "metadata": {},
   "source": [
    "### ERA5 via OpenDAP on the Asia Pacific Data Research Center "
   ]
  },
  {
   "cell_type": "markdown",
   "id": "517bb6dc-ee1c-4f45-8ba1-408072d14844",
   "metadata": {},
   "source": [
    "NOTE: the full ERA5 reanalysis data (all variables, all levels, etc) is available at [https://cds.climate.copernicus.eu/#!/home](https://cds.climate.copernicus.eu/#!/home)"
   ]
  },
  {
   "cell_type": "markdown",
   "id": "21e86c8f-860e-4ef2-922e-693b9ee7461f",
   "metadata": {},
   "source": [
    "start at http://apdrc.soest.hawaii.edu/data/data.php"
   ]
  },
  {
   "cell_type": "markdown",
   "id": "468118b7-6603-4a07-af28-484bf111d9df",
   "metadata": {},
   "source": [
    "### monthly aggregated variables "
   ]
  },
  {
   "cell_type": "code",
   "execution_count": null,
   "id": "aa668dab-cd8b-44fe-8582-fbbe71a16df7",
   "metadata": {},
   "outputs": [],
   "source": [
    "url = 'http://apdrc.soest.hawaii.edu:80/dods/public_data/Reanalysis_Data/ERA5/monthly_2d/Surface'"
   ]
  },
  {
   "cell_type": "code",
   "execution_count": null,
   "id": "3f8bdc0f-e84f-4184-a9a6-eb914487ea47",
   "metadata": {},
   "outputs": [],
   "source": [
    "dset = xr.open_dataset(url)"
   ]
  },
  {
   "cell_type": "code",
   "execution_count": null,
   "id": "d28a3ac9-57b7-4b86-bd4d-fee86d080e6c",
   "metadata": {},
   "outputs": [],
   "source": [
    "dset"
   ]
  },
  {
   "cell_type": "markdown",
   "id": "40093d57-b1ee-4fb8-b127-77125b2afd99",
   "metadata": {},
   "source": [
    "### we can just extract the variable of interest "
   ]
  },
  {
   "cell_type": "code",
   "execution_count": null,
   "id": "0a6aaf01-00ff-42d5-83e4-c0fba454106f",
   "metadata": {},
   "outputs": [],
   "source": [
    "dset = xr.open_dataset(url)[['t2m']]"
   ]
  },
  {
   "cell_type": "code",
   "execution_count": null,
   "id": "3a8d4edd-8d3b-4ca6-b3a6-e19fde49d524",
   "metadata": {},
   "outputs": [],
   "source": [
    "dset.nbytes / 1e9"
   ]
  },
  {
   "cell_type": "code",
   "execution_count": null,
   "id": "ce0cc2c6-6bc8-41b1-836e-e38af27b8207",
   "metadata": {},
   "outputs": [],
   "source": [
    "dset"
   ]
  },
  {
   "cell_type": "code",
   "execution_count": null,
   "id": "e2e854bf-26e2-4716-ba47-eb617732f67f",
   "metadata": {},
   "outputs": [],
   "source": [
    "dset.close()"
   ]
  },
  {
   "cell_type": "markdown",
   "id": "447996b1-c75f-4ca4-9ca3-d5082e46790c",
   "metadata": {},
   "source": [
    "### daily aggregated variables \n",
    "\n",
    "- [http://apdrc.soest.hawaii.edu/dods/public_data/Reanalysis_Data/ERA5/daily_3d](http://apdrc.soest.hawaii.edu/dods/public_data/Reanalysis_Data/ERA5/daily_3d)\n",
    "\n",
    "air temperature: \n",
    "\n",
    "- [http://apdrc.soest.hawaii.edu:80/dods/public_data/Reanalysis_Data/ERA5/daily_3d/Air_Temperature](http://apdrc.soest.hawaii.edu:80/dods/public_data/Reanalysis_Data/ERA5/daily_3d/Air_Temperature)\n",
    "\n"
   ]
  },
  {
   "cell_type": "code",
   "execution_count": null,
   "id": "64d08660-2a35-403b-83ff-447bf43aa454",
   "metadata": {},
   "outputs": [],
   "source": [
    "url = 'http://apdrc.soest.hawaii.edu:80/dods/public_data/Reanalysis_Data/ERA5/daily_3d/Air_Temperature'"
   ]
  },
  {
   "cell_type": "code",
   "execution_count": null,
   "id": "8d58b283-7ceb-45af-a305-637bd48c5d32",
   "metadata": {},
   "outputs": [],
   "source": [
    "dset = xr.open_dataset(url)"
   ]
  },
  {
   "cell_type": "code",
   "execution_count": null,
   "id": "42c41a01-1a73-42ce-abb1-b33646a788e3",
   "metadata": {},
   "outputs": [],
   "source": [
    "dset"
   ]
  },
  {
   "cell_type": "code",
   "execution_count": null,
   "id": "eded6f68-a627-4a0a-b3ff-514452c92e0e",
   "metadata": {},
   "outputs": [],
   "source": [
    "dset.nbytes / 1e9"
   ]
  },
  {
   "cell_type": "code",
   "execution_count": null,
   "id": "fbd9f6eb-5cc6-4066-8edc-11e1445bf55f",
   "metadata": {},
   "outputs": [],
   "source": [
    "dset.lev"
   ]
  },
  {
   "cell_type": "code",
   "execution_count": null,
   "id": "af6e34a6-df17-4f84-b1c8-b7d5cd55fa1f",
   "metadata": {},
   "outputs": [],
   "source": [
    "dset = dset.sel(lev=1000., lat=slice(-90., 30.))"
   ]
  },
  {
   "cell_type": "code",
   "execution_count": null,
   "id": "c8d6d7e6-5177-4f50-8940-44345953c98d",
   "metadata": {},
   "outputs": [],
   "source": [
    "dset.nbytes / 1e9"
   ]
  },
  {
   "cell_type": "markdown",
   "id": "f1255efa-ca92-4749-8f4a-29b08c8723c2",
   "metadata": {},
   "source": [
    "### we are going to save the 1st 5 days worth of data to disk "
   ]
  },
  {
   "cell_type": "code",
   "execution_count": null,
   "id": "e5eca164-335c-4ca2-bfd4-f6a7b1bb5bb0",
   "metadata": {},
   "outputs": [],
   "source": [
    "opath = pathlib.Path('../data/ERA5/temperature')"
   ]
  },
  {
   "cell_type": "code",
   "execution_count": null,
   "id": "fb78eb9c-d3b5-44d6-82a7-487a19a19cb6",
   "metadata": {},
   "outputs": [],
   "source": [
    "if not(opath.exists()): \n",
    "    print(f\"{str(opath)} does not exist, creating ...\")\n",
    "    opath.mkdir(parents=True)"
   ]
  },
  {
   "cell_type": "code",
   "execution_count": null,
   "id": "e8d70822-b550-43ed-b710-3d4216965b6f",
   "metadata": {},
   "outputs": [],
   "source": [
    "for t in tqdm_notebook(dset.time.to_index()[:5]): \n",
    "    sub = dset.sel(time=t)\n",
    "    sub.expand_dims({'time':[t]})\n",
    "    sub.to_netcdf(opath.joinpath(f'./ERA5_temp_{t:%Y-%m-%d}.nc'))\n",
    "    sub.close()"
   ]
  },
  {
   "cell_type": "code",
   "execution_count": null,
   "id": "e59fbb77-9f1e-460d-8d25-3e0a7c37b05b",
   "metadata": {},
   "outputs": [],
   "source": [
    "dset.close()"
   ]
  },
  {
   "cell_type": "markdown",
   "id": "cd08b127-a4f0-4f18-bc6a-c4da702683a8",
   "metadata": {},
   "source": [
    "### list the local files "
   ]
  },
  {
   "cell_type": "code",
   "execution_count": null,
   "id": "c97a7d29-9c33-4e27-933c-4d25ee2b58d6",
   "metadata": {},
   "outputs": [],
   "source": [
    "lfiles = list(opath.glob(\"ERA5_temp_*.nc\"))"
   ]
  },
  {
   "cell_type": "code",
   "execution_count": null,
   "id": "b40f9125-b5da-4fad-97bd-b7488d58fa5a",
   "metadata": {},
   "outputs": [],
   "source": [
    "lfiles.sort()"
   ]
  },
  {
   "cell_type": "code",
   "execution_count": null,
   "id": "3d191334-e7b9-47db-9ea8-f813d89851d0",
   "metadata": {},
   "outputs": [],
   "source": [
    "lfiles"
   ]
  },
  {
   "cell_type": "code",
   "execution_count": null,
   "id": "d6a5746f-9130-4a31-a758-ddbdfaca279d",
   "metadata": {},
   "outputs": [],
   "source": [
    "dset = xr.open_mfdataset(lfiles, concat_dim='time', combine='nested')"
   ]
  },
  {
   "cell_type": "code",
   "execution_count": null,
   "id": "527c5e40-bd0f-4f6d-8e90-2e6200f10642",
   "metadata": {},
   "outputs": [],
   "source": [
    "dset"
   ]
  },
  {
   "cell_type": "markdown",
   "id": "9f643b6c-3121-4084-ad5d-8706d51542da",
   "metadata": {},
   "source": [
    "### convert to Celsius "
   ]
  },
  {
   "cell_type": "code",
   "execution_count": null,
   "id": "a2dffbc3-26d0-435f-8522-abe94ff9352a",
   "metadata": {},
   "outputs": [],
   "source": [
    "dset['temperature'] -= 273.15"
   ]
  },
  {
   "cell_type": "markdown",
   "id": "1fc4be4b-5c9f-4df7-8736-7b901a17d859",
   "metadata": {},
   "source": [
    "### re-chunk, we want one chunk along the time dimension only as we are going to calculate the time mean "
   ]
  },
  {
   "cell_type": "code",
   "execution_count": null,
   "id": "a3961655-d196-4c46-a88e-84f7174d7187",
   "metadata": {},
   "outputs": [],
   "source": [
    "dset.chunks"
   ]
  },
  {
   "cell_type": "code",
   "execution_count": null,
   "id": "a7599471-e740-4e30-a77c-baaee4e2b8c7",
   "metadata": {},
   "outputs": [],
   "source": [
    "dset = dset.chunk({'time':-1, 'lat':10, 'lon':10})"
   ]
  },
  {
   "cell_type": "code",
   "execution_count": null,
   "id": "4d617116-f368-4e84-8498-8e1de3961a33",
   "metadata": {},
   "outputs": [],
   "source": [
    "dset.chunks"
   ]
  },
  {
   "cell_type": "code",
   "execution_count": null,
   "id": "42101ecd-2462-4309-8b5d-679a287001ab",
   "metadata": {},
   "outputs": [],
   "source": [
    "dset = dset.mean('time')"
   ]
  },
  {
   "cell_type": "code",
   "execution_count": null,
   "id": "cba8ffa1-2cff-4a0f-aaa0-8bc696012a9e",
   "metadata": {},
   "outputs": [],
   "source": [
    "dset.compute()"
   ]
  },
  {
   "cell_type": "markdown",
   "id": "6a284b3a-b3e3-4eb3-9605-ec5e0d066031",
   "metadata": {},
   "source": [
    "### proper map with coastlines, using cartopy "
   ]
  },
  {
   "cell_type": "code",
   "execution_count": null,
   "id": "23f23ec4-3c37-48c5-9448-586a706309d7",
   "metadata": {},
   "outputs": [],
   "source": [
    "cbar_kwargs = dict(shrink=0.5, orientation='horizontal', pad=0.01)"
   ]
  },
  {
   "cell_type": "code",
   "execution_count": null,
   "id": "76d13d7b-7b35-40e6-9d3d-ea9a5bee6056",
   "metadata": {},
   "outputs": [],
   "source": [
    "f, ax = plt.subplots(subplot_kw={\"projection\":ccrs.PlateCarree(central_longitude=180)})\n",
    "dset['temperature'].plot(ax=ax, levels=20, transform=ccrs.PlateCarree(), cbar_kwargs=cbar_kwargs)\n",
    "ax.coastlines()\n",
    "ax.set_extent([0, 360, -90, 20], crs=ccrs.PlateCarree())\n",
    "ax.set_title('ERA5 temperature at 1000 hPa')"
   ]
  },
  {
   "cell_type": "code",
   "execution_count": null,
   "id": "16687da1-4bc0-467d-99de-54ed4e1caf3a",
   "metadata": {},
   "outputs": [],
   "source": [
    "cbar_kwargs.update(dict(orientation='vertical', shrink=0.7))"
   ]
  },
  {
   "cell_type": "code",
   "execution_count": null,
   "id": "36ca3037-5c33-4411-a8d3-207fdfcdb3aa",
   "metadata": {},
   "outputs": [],
   "source": [
    "f, ax = plt.subplots(subplot_kw={\"projection\":ccrs.Orthographic(central_longitude=150, central_latitude=-55)})\n",
    "dset['temperature'].plot(ax=ax, levels=20, transform=ccrs.PlateCarree(), cbar_kwargs=cbar_kwargs)\n",
    "ax.coastlines(resolution='10m')\n",
    "ax.set_title('ERA5 temperature at 1000 hPa')"
   ]
  },
  {
   "cell_type": "code",
   "execution_count": null,
   "id": "d65c6236-f46c-48c2-8be3-f6e5089dbb7d",
   "metadata": {},
   "outputs": [],
   "source": [
    "dset.close()"
   ]
  }
 ],
 "metadata": {
  "kernelspec": {
   "display_name": "Python 3 (ipykernel)",
   "language": "python",
   "name": "python3"
  },
  "language_info": {
   "codemirror_mode": {
    "name": "ipython",
    "version": 3
   },
   "file_extension": ".py",
   "mimetype": "text/x-python",
   "name": "python",
   "nbconvert_exporter": "python",
   "pygments_lexer": "ipython3",
   "version": "3.10.4"
  }
 },
 "nbformat": 4,
 "nbformat_minor": 5
}
