{
 "cells": [
  {
   "cell_type": "markdown",
   "id": "6658327a-72b5-4b65-a9f3-3217b0e9d40c",
   "metadata": {},
   "source": [
    "## reading CSV files with Pandas and some simple Dataframe manipulations"
   ]
  },
  {
   "cell_type": "code",
   "execution_count": 1,
   "id": "925d4535-e31e-496d-99ba-9f7843b45474",
   "metadata": {},
   "outputs": [],
   "source": [
    "%matplotlib inline\n",
    "\n",
    "### pathlib\n",
    "import pathlib\n",
    "\n",
    "### scipy\n",
    "import numpy as np\n",
    "import pandas as pd\n",
    "\n",
    "### plotting\n",
    "from matplotlib import pyplot as plt\n",
    "import matplotlib"
   ]
  },
  {
   "cell_type": "code",
   "execution_count": 2,
   "id": "5a228c33-74ac-484e-a3f9-a745edd8d842",
   "metadata": {},
   "outputs": [],
   "source": [
    "import pathlib"
   ]
  },
  {
   "cell_type": "code",
   "execution_count": 3,
   "id": "f9b503e7-5cea-423c-af47-b40ef698f49d",
   "metadata": {},
   "outputs": [],
   "source": [
    "plt.rcParams['figure.figsize'] = (10,5)\n",
    "plt.rcParams['font.size'] = 14\n",
    "plt.rcParams['lines.linewidth'] = 2"
   ]
  },
  {
   "cell_type": "markdown",
   "id": "3e149a9d-1438-4d5a-a3f1-a94528d45852",
   "metadata": {},
   "source": [
    "#### Daily temperature data for 30 NZ stations from https://data.mfe.govt.nz/table/105056-daily-temperature-1909-2019/ "
   ]
  },
  {
   "cell_type": "code",
   "execution_count": 4,
   "id": "b3ca4487-b2fd-4e8a-9b16-8407ecf427c7",
   "metadata": {},
   "outputs": [],
   "source": [
    "dpath = pathlib.Path('/media/nicolasf/END19101/data/NZ_station_data/temperature/')"
   ]
  },
  {
   "cell_type": "markdown",
   "id": "48ec8b6f-4370-441e-b9f0-18c959d98bc2",
   "metadata": {},
   "source": [
    "#### read the data in csv, setting up the index (labels along the rows) to be the first column (indexing starts at 0 in Python)"
   ]
  },
  {
   "cell_type": "code",
   "execution_count": 5,
   "id": "665f99e7-b198-486c-9516-ff8727d2cc27",
   "metadata": {},
   "outputs": [],
   "source": [
    "data = pd.read_csv(dpath.joinpath('daily-temperature-1909-2019.csv'), index_col=0)"
   ]
  },
  {
   "cell_type": "code",
   "execution_count": 6,
   "id": "47c0d3aa-f949-4164-b75f-0f0be9ca67ec",
   "metadata": {},
   "outputs": [
    {
     "data": {
      "text/html": [
       "<div>\n",
       "<style scoped>\n",
       "    .dataframe tbody tr th:only-of-type {\n",
       "        vertical-align: middle;\n",
       "    }\n",
       "\n",
       "    .dataframe tbody tr th {\n",
       "        vertical-align: top;\n",
       "    }\n",
       "\n",
       "    .dataframe thead th {\n",
       "        text-align: right;\n",
       "    }\n",
       "</style>\n",
       "<table border=\"1\" class=\"dataframe\">\n",
       "  <thead>\n",
       "    <tr style=\"text-align: right;\">\n",
       "      <th></th>\n",
       "      <th>date</th>\n",
       "      <th>statistic</th>\n",
       "      <th>temperature</th>\n",
       "      <th>station_name_niwa</th>\n",
       "      <th>agent_number</th>\n",
       "    </tr>\n",
       "    <tr>\n",
       "      <th>location_name</th>\n",
       "      <th></th>\n",
       "      <th></th>\n",
       "      <th></th>\n",
       "      <th></th>\n",
       "      <th></th>\n",
       "    </tr>\n",
       "  </thead>\n",
       "  <tbody>\n",
       "    <tr>\n",
       "      <th>Auckland</th>\n",
       "      <td>1966-01-01</td>\n",
       "      <td>Maximum</td>\n",
       "      <td>22.2</td>\n",
       "      <td>Auckland Aero</td>\n",
       "      <td>1962</td>\n",
       "    </tr>\n",
       "    <tr>\n",
       "      <th>Auckland</th>\n",
       "      <td>1966-01-01</td>\n",
       "      <td>Minimum</td>\n",
       "      <td>13.9</td>\n",
       "      <td>Auckland Aero</td>\n",
       "      <td>1962</td>\n",
       "    </tr>\n",
       "    <tr>\n",
       "      <th>Auckland</th>\n",
       "      <td>1966-01-01</td>\n",
       "      <td>Average</td>\n",
       "      <td>18.1</td>\n",
       "      <td>Auckland Aero</td>\n",
       "      <td>1962</td>\n",
       "    </tr>\n",
       "    <tr>\n",
       "      <th>Auckland</th>\n",
       "      <td>1966-01-02</td>\n",
       "      <td>Maximum</td>\n",
       "      <td>23.9</td>\n",
       "      <td>Auckland Aero</td>\n",
       "      <td>1962</td>\n",
       "    </tr>\n",
       "    <tr>\n",
       "      <th>Auckland</th>\n",
       "      <td>1966-01-02</td>\n",
       "      <td>Minimum</td>\n",
       "      <td>17.1</td>\n",
       "      <td>Auckland Aero</td>\n",
       "      <td>1962</td>\n",
       "    </tr>\n",
       "  </tbody>\n",
       "</table>\n",
       "</div>"
      ],
      "text/plain": [
       "                     date statistic  temperature station_name_niwa  \\\n",
       "location_name                                                        \n",
       "Auckland       1966-01-01   Maximum         22.2     Auckland Aero   \n",
       "Auckland       1966-01-01   Minimum         13.9     Auckland Aero   \n",
       "Auckland       1966-01-01   Average         18.1     Auckland Aero   \n",
       "Auckland       1966-01-02   Maximum         23.9     Auckland Aero   \n",
       "Auckland       1966-01-02   Minimum         17.1     Auckland Aero   \n",
       "\n",
       "               agent_number  \n",
       "location_name                \n",
       "Auckland               1962  \n",
       "Auckland               1962  \n",
       "Auckland               1962  \n",
       "Auckland               1962  \n",
       "Auckland               1962  "
      ]
     },
     "execution_count": 6,
     "metadata": {},
     "output_type": "execute_result"
    }
   ],
   "source": [
    "data.head()"
   ]
  },
  {
   "cell_type": "code",
   "execution_count": 7,
   "id": "c72a43dc-761a-45fb-a614-803b94356db0",
   "metadata": {},
   "outputs": [],
   "source": [
    "location_names = data.index.unique()"
   ]
  },
  {
   "cell_type": "code",
   "execution_count": 8,
   "id": "189031b4-c325-43f9-adc3-a07f3bda22b7",
   "metadata": {},
   "outputs": [
    {
     "data": {
      "text/plain": [
       "Index(['Auckland', 'Blenheim', 'Christchurch', 'Dannevirke', 'Dunedin',\n",
       "       'Gisborne', 'Gore', 'Hamilton', 'Hokitika', 'Invercargill', 'Kerikeri',\n",
       "       'Lake Tekapo', 'Masterton', 'Milford Sound', 'Napier', 'Nelson',\n",
       "       'New Plymouth', 'Queenstown', 'Reefton', 'Rotorua', 'Tara Hills',\n",
       "       'Taumarunui', 'Taupo', 'Tauranga', 'Timaru', 'Waiouru', 'Wellington',\n",
       "       'Whanganui', 'Whangaparaoa', 'Whangarei'],\n",
       "      dtype='object', name='location_name')"
      ]
     },
     "execution_count": 8,
     "metadata": {},
     "output_type": "execute_result"
    }
   ],
   "source": [
    "location_names"
   ]
  },
  {
   "cell_type": "code",
   "execution_count": 9,
   "id": "86abe046-9c5e-4a76-ad5e-ea9f4fd8ef08",
   "metadata": {},
   "outputs": [
    {
     "data": {
      "text/plain": [
       "30"
      ]
     },
     "execution_count": 9,
     "metadata": {},
     "output_type": "execute_result"
    }
   ],
   "source": [
    "len(location_names)"
   ]
  },
  {
   "cell_type": "markdown",
   "id": "68b27cab-90a5-4d2a-8b06-f6a6888953ed",
   "metadata": {},
   "source": [
    "### select a location (index) and a statistic in the `statistic` column "
   ]
  },
  {
   "cell_type": "code",
   "execution_count": 10,
   "id": "c6d0cef1-457c-4113-ba45-66ac7950e027",
   "metadata": {},
   "outputs": [],
   "source": [
    "location = 'Hamilton'"
   ]
  },
  {
   "cell_type": "code",
   "execution_count": 11,
   "id": "fe0da35f-a544-4ebc-bd8b-7d22a033556f",
   "metadata": {},
   "outputs": [],
   "source": [
    "statistic = 'Maximum'"
   ]
  },
  {
   "cell_type": "code",
   "execution_count": 12,
   "id": "9afebd58-1c7d-41b1-895e-1ad6b74f816c",
   "metadata": {},
   "outputs": [],
   "source": [
    "df = data.loc[location,:].query(f\"statistic == '{statistic}'\")"
   ]
  },
  {
   "cell_type": "code",
   "execution_count": 13,
   "id": "ab5da629-ddc6-4fa5-84da-d365d1a6760f",
   "metadata": {},
   "outputs": [
    {
     "data": {
      "text/html": [
       "<div>\n",
       "<style scoped>\n",
       "    .dataframe tbody tr th:only-of-type {\n",
       "        vertical-align: middle;\n",
       "    }\n",
       "\n",
       "    .dataframe tbody tr th {\n",
       "        vertical-align: top;\n",
       "    }\n",
       "\n",
       "    .dataframe thead th {\n",
       "        text-align: right;\n",
       "    }\n",
       "</style>\n",
       "<table border=\"1\" class=\"dataframe\">\n",
       "  <thead>\n",
       "    <tr style=\"text-align: right;\">\n",
       "      <th></th>\n",
       "      <th>date</th>\n",
       "      <th>statistic</th>\n",
       "      <th>temperature</th>\n",
       "      <th>station_name_niwa</th>\n",
       "      <th>agent_number</th>\n",
       "    </tr>\n",
       "    <tr>\n",
       "      <th>location_name</th>\n",
       "      <th></th>\n",
       "      <th></th>\n",
       "      <th></th>\n",
       "      <th></th>\n",
       "      <th></th>\n",
       "    </tr>\n",
       "  </thead>\n",
       "  <tbody>\n",
       "    <tr>\n",
       "      <th>Hamilton</th>\n",
       "      <td>1972-01-01</td>\n",
       "      <td>Maximum</td>\n",
       "      <td>25.6</td>\n",
       "      <td>Hamilton Aws</td>\n",
       "      <td>2112</td>\n",
       "    </tr>\n",
       "    <tr>\n",
       "      <th>Hamilton</th>\n",
       "      <td>1972-01-02</td>\n",
       "      <td>Maximum</td>\n",
       "      <td>25.4</td>\n",
       "      <td>Hamilton Aws</td>\n",
       "      <td>2112</td>\n",
       "    </tr>\n",
       "    <tr>\n",
       "      <th>Hamilton</th>\n",
       "      <td>1972-01-03</td>\n",
       "      <td>Maximum</td>\n",
       "      <td>25.4</td>\n",
       "      <td>Hamilton Aws</td>\n",
       "      <td>2112</td>\n",
       "    </tr>\n",
       "    <tr>\n",
       "      <th>Hamilton</th>\n",
       "      <td>1972-01-04</td>\n",
       "      <td>Maximum</td>\n",
       "      <td>24.7</td>\n",
       "      <td>Hamilton Aws</td>\n",
       "      <td>2112</td>\n",
       "    </tr>\n",
       "    <tr>\n",
       "      <th>Hamilton</th>\n",
       "      <td>1972-01-05</td>\n",
       "      <td>Maximum</td>\n",
       "      <td>22.3</td>\n",
       "      <td>Hamilton Aws</td>\n",
       "      <td>2112</td>\n",
       "    </tr>\n",
       "  </tbody>\n",
       "</table>\n",
       "</div>"
      ],
      "text/plain": [
       "                     date statistic  temperature station_name_niwa  \\\n",
       "location_name                                                        \n",
       "Hamilton       1972-01-01   Maximum         25.6      Hamilton Aws   \n",
       "Hamilton       1972-01-02   Maximum         25.4      Hamilton Aws   \n",
       "Hamilton       1972-01-03   Maximum         25.4      Hamilton Aws   \n",
       "Hamilton       1972-01-04   Maximum         24.7      Hamilton Aws   \n",
       "Hamilton       1972-01-05   Maximum         22.3      Hamilton Aws   \n",
       "\n",
       "               agent_number  \n",
       "location_name                \n",
       "Hamilton               2112  \n",
       "Hamilton               2112  \n",
       "Hamilton               2112  \n",
       "Hamilton               2112  \n",
       "Hamilton               2112  "
      ]
     },
     "execution_count": 13,
     "metadata": {},
     "output_type": "execute_result"
    }
   ],
   "source": [
    "df.head()"
   ]
  },
  {
   "cell_type": "code",
   "execution_count": 14,
   "id": "6a3e724d-42d1-4403-b2a8-586bc6368ed0",
   "metadata": {},
   "outputs": [
    {
     "name": "stdout",
     "output_type": "stream",
     "text": [
      "<class 'pandas.core.frame.DataFrame'>\n",
      "Index: 17532 entries, Hamilton to Hamilton\n",
      "Data columns (total 5 columns):\n",
      " #   Column             Non-Null Count  Dtype  \n",
      "---  ------             --------------  -----  \n",
      " 0   date               17532 non-null  object \n",
      " 1   statistic          17532 non-null  object \n",
      " 2   temperature        17532 non-null  float64\n",
      " 3   station_name_niwa  17532 non-null  object \n",
      " 4   agent_number       17532 non-null  int64  \n",
      "dtypes: float64(1), int64(1), object(3)\n",
      "memory usage: 821.8+ KB\n"
     ]
    }
   ],
   "source": [
    "df.info()"
   ]
  },
  {
   "cell_type": "code",
   "execution_count": 15,
   "id": "1b831d2c-1d2c-4101-8a8d-67398718b908",
   "metadata": {},
   "outputs": [],
   "source": [
    "df = df.set_index('date')"
   ]
  },
  {
   "cell_type": "code",
   "execution_count": 16,
   "id": "cf412411-5be4-4e0e-a0fc-7a55bf8b092a",
   "metadata": {},
   "outputs": [
    {
     "data": {
      "text/html": [
       "<div>\n",
       "<style scoped>\n",
       "    .dataframe tbody tr th:only-of-type {\n",
       "        vertical-align: middle;\n",
       "    }\n",
       "\n",
       "    .dataframe tbody tr th {\n",
       "        vertical-align: top;\n",
       "    }\n",
       "\n",
       "    .dataframe thead th {\n",
       "        text-align: right;\n",
       "    }\n",
       "</style>\n",
       "<table border=\"1\" class=\"dataframe\">\n",
       "  <thead>\n",
       "    <tr style=\"text-align: right;\">\n",
       "      <th></th>\n",
       "      <th>statistic</th>\n",
       "      <th>temperature</th>\n",
       "      <th>station_name_niwa</th>\n",
       "      <th>agent_number</th>\n",
       "    </tr>\n",
       "    <tr>\n",
       "      <th>date</th>\n",
       "      <th></th>\n",
       "      <th></th>\n",
       "      <th></th>\n",
       "      <th></th>\n",
       "    </tr>\n",
       "  </thead>\n",
       "  <tbody>\n",
       "    <tr>\n",
       "      <th>1972-01-01</th>\n",
       "      <td>Maximum</td>\n",
       "      <td>25.6</td>\n",
       "      <td>Hamilton Aws</td>\n",
       "      <td>2112</td>\n",
       "    </tr>\n",
       "    <tr>\n",
       "      <th>1972-01-02</th>\n",
       "      <td>Maximum</td>\n",
       "      <td>25.4</td>\n",
       "      <td>Hamilton Aws</td>\n",
       "      <td>2112</td>\n",
       "    </tr>\n",
       "    <tr>\n",
       "      <th>1972-01-03</th>\n",
       "      <td>Maximum</td>\n",
       "      <td>25.4</td>\n",
       "      <td>Hamilton Aws</td>\n",
       "      <td>2112</td>\n",
       "    </tr>\n",
       "    <tr>\n",
       "      <th>1972-01-04</th>\n",
       "      <td>Maximum</td>\n",
       "      <td>24.7</td>\n",
       "      <td>Hamilton Aws</td>\n",
       "      <td>2112</td>\n",
       "    </tr>\n",
       "    <tr>\n",
       "      <th>1972-01-05</th>\n",
       "      <td>Maximum</td>\n",
       "      <td>22.3</td>\n",
       "      <td>Hamilton Aws</td>\n",
       "      <td>2112</td>\n",
       "    </tr>\n",
       "  </tbody>\n",
       "</table>\n",
       "</div>"
      ],
      "text/plain": [
       "           statistic  temperature station_name_niwa  agent_number\n",
       "date                                                             \n",
       "1972-01-01   Maximum         25.6      Hamilton Aws          2112\n",
       "1972-01-02   Maximum         25.4      Hamilton Aws          2112\n",
       "1972-01-03   Maximum         25.4      Hamilton Aws          2112\n",
       "1972-01-04   Maximum         24.7      Hamilton Aws          2112\n",
       "1972-01-05   Maximum         22.3      Hamilton Aws          2112"
      ]
     },
     "execution_count": 16,
     "metadata": {},
     "output_type": "execute_result"
    }
   ],
   "source": [
    "df.head()"
   ]
  },
  {
   "cell_type": "code",
   "execution_count": 17,
   "id": "56b69642-ebda-4c8d-90ca-11be94767076",
   "metadata": {},
   "outputs": [
    {
     "name": "stdout",
     "output_type": "stream",
     "text": [
      "<class 'pandas.core.frame.DataFrame'>\n",
      "Index: 17532 entries, 1972-01-01 to 2019-12-31\n",
      "Data columns (total 4 columns):\n",
      " #   Column             Non-Null Count  Dtype  \n",
      "---  ------             --------------  -----  \n",
      " 0   statistic          17532 non-null  object \n",
      " 1   temperature        17532 non-null  float64\n",
      " 2   station_name_niwa  17532 non-null  object \n",
      " 3   agent_number       17532 non-null  int64  \n",
      "dtypes: float64(1), int64(1), object(2)\n",
      "memory usage: 684.8+ KB\n"
     ]
    }
   ],
   "source": [
    "df.info()"
   ]
  },
  {
   "cell_type": "code",
   "execution_count": 18,
   "id": "ef5027a2-67ca-4fc3-b876-9158e92e341e",
   "metadata": {},
   "outputs": [
    {
     "data": {
      "text/plain": [
       "Index(['1972-01-01', '1972-01-02', '1972-01-03', '1972-01-04', '1972-01-05',\n",
       "       '1972-01-06', '1972-01-07', '1972-01-08', '1972-01-09', '1972-01-10',\n",
       "       ...\n",
       "       '2019-12-22', '2019-12-23', '2019-12-24', '2019-12-25', '2019-12-26',\n",
       "       '2019-12-27', '2019-12-28', '2019-12-29', '2019-12-30', '2019-12-31'],\n",
       "      dtype='object', name='date', length=17532)"
      ]
     },
     "execution_count": 18,
     "metadata": {},
     "output_type": "execute_result"
    }
   ],
   "source": [
    "df.index"
   ]
  },
  {
   "cell_type": "code",
   "execution_count": 19,
   "id": "b1996cba-5b07-45b8-a244-1cc8b0136c80",
   "metadata": {},
   "outputs": [],
   "source": [
    "df.index = pd.to_datetime(df.index)"
   ]
  },
  {
   "cell_type": "code",
   "execution_count": 20,
   "id": "4f244e44-bfb7-46f9-afad-a1a5496d026e",
   "metadata": {},
   "outputs": [
    {
     "data": {
      "text/plain": [
       "DatetimeIndex(['1972-01-01', '1972-01-02', '1972-01-03', '1972-01-04',\n",
       "               '1972-01-05', '1972-01-06', '1972-01-07', '1972-01-08',\n",
       "               '1972-01-09', '1972-01-10',\n",
       "               ...\n",
       "               '2019-12-22', '2019-12-23', '2019-12-24', '2019-12-25',\n",
       "               '2019-12-26', '2019-12-27', '2019-12-28', '2019-12-29',\n",
       "               '2019-12-30', '2019-12-31'],\n",
       "              dtype='datetime64[ns]', name='date', length=17532, freq=None)"
      ]
     },
     "execution_count": 20,
     "metadata": {},
     "output_type": "execute_result"
    }
   ],
   "source": [
    "df.index"
   ]
  },
  {
   "cell_type": "code",
   "execution_count": 21,
   "id": "18e5c459-e623-4107-b714-3540b0dad6fe",
   "metadata": {},
   "outputs": [],
   "source": [
    "df = df[['temperature']]"
   ]
  },
  {
   "cell_type": "code",
   "execution_count": 22,
   "id": "c3200d89-eab9-4664-935f-77b7a44a7b4a",
   "metadata": {},
   "outputs": [
    {
     "data": {
      "text/html": [
       "<div>\n",
       "<style scoped>\n",
       "    .dataframe tbody tr th:only-of-type {\n",
       "        vertical-align: middle;\n",
       "    }\n",
       "\n",
       "    .dataframe tbody tr th {\n",
       "        vertical-align: top;\n",
       "    }\n",
       "\n",
       "    .dataframe thead th {\n",
       "        text-align: right;\n",
       "    }\n",
       "</style>\n",
       "<table border=\"1\" class=\"dataframe\">\n",
       "  <thead>\n",
       "    <tr style=\"text-align: right;\">\n",
       "      <th></th>\n",
       "      <th>temperature</th>\n",
       "    </tr>\n",
       "    <tr>\n",
       "      <th>date</th>\n",
       "      <th></th>\n",
       "    </tr>\n",
       "  </thead>\n",
       "  <tbody>\n",
       "    <tr>\n",
       "      <th>1972-01-01</th>\n",
       "      <td>25.6</td>\n",
       "    </tr>\n",
       "    <tr>\n",
       "      <th>1972-01-02</th>\n",
       "      <td>25.4</td>\n",
       "    </tr>\n",
       "    <tr>\n",
       "      <th>1972-01-03</th>\n",
       "      <td>25.4</td>\n",
       "    </tr>\n",
       "    <tr>\n",
       "      <th>1972-01-04</th>\n",
       "      <td>24.7</td>\n",
       "    </tr>\n",
       "    <tr>\n",
       "      <th>1972-01-05</th>\n",
       "      <td>22.3</td>\n",
       "    </tr>\n",
       "  </tbody>\n",
       "</table>\n",
       "</div>"
      ],
      "text/plain": [
       "            temperature\n",
       "date                   \n",
       "1972-01-01         25.6\n",
       "1972-01-02         25.4\n",
       "1972-01-03         25.4\n",
       "1972-01-04         24.7\n",
       "1972-01-05         22.3"
      ]
     },
     "execution_count": 22,
     "metadata": {},
     "output_type": "execute_result"
    }
   ],
   "source": [
    "df.head()"
   ]
  },
  {
   "cell_type": "code",
   "execution_count": 23,
   "id": "2ddf1731-5c6b-4923-a2ee-575c029084ae",
   "metadata": {},
   "outputs": [
    {
     "data": {
      "text/plain": [
       "<AxesSubplot:xlabel='date'>"
      ]
     },
     "execution_count": 23,
     "metadata": {},
     "output_type": "execute_result"
    },
    {
     "data": {
      "image/png": "[encoded data removed]",
      "text/plain": [
       "<Figure size 720x360 with 1 Axes>"
      ]
     },
     "metadata": {
      "needs_background": "light"
     },
     "output_type": "display_data"
    }
   ],
   "source": [
    "df.plot()"
   ]
  },
  {
   "cell_type": "markdown",
   "id": "dac54619-b12c-484d-bb26-5d0d20790b5b",
   "metadata": {},
   "source": [
    "### resampling, take the maximum daily temperature for each calendar month"
   ]
  },
  {
   "cell_type": "code",
   "execution_count": 24,
   "id": "6305abba-0d0f-4645-9aeb-d4359f56cb49",
   "metadata": {},
   "outputs": [],
   "source": [
    "df_monthly = df.resample('1M').max()"
   ]
  },
  {
   "cell_type": "code",
   "execution_count": 25,
   "id": "c2fc7f92-95d2-4d50-8181-8ebccb33b231",
   "metadata": {},
   "outputs": [
    {
     "data": {
      "text/plain": [
       "<AxesSubplot:xlabel='date'>"
      ]
     },
     "execution_count": 25,
     "metadata": {},
     "output_type": "execute_result"
    },
    {
     "data": {
      "image/png": "[encoded data removed]",
      "text/plain": [
       "<Figure size 720x360 with 1 Axes>"
      ]
     },
     "metadata": {
      "needs_background": "light"
     },
     "output_type": "display_data"
    }
   ],
   "source": [
    "df_monthly.plot()"
   ]
  },
  {
   "cell_type": "code",
   "execution_count": 26,
   "id": "10f06e60-5a3a-44c8-9def-b3abf8180055",
   "metadata": {},
   "outputs": [
    {
     "data": {
      "text/html": [
       "<div>\n",
       "<style scoped>\n",
       "    .dataframe tbody tr th:only-of-type {\n",
       "        vertical-align: middle;\n",
       "    }\n",
       "\n",
       "    .dataframe tbody tr th {\n",
       "        vertical-align: top;\n",
       "    }\n",
       "\n",
       "    .dataframe thead th {\n",
       "        text-align: right;\n",
       "    }\n",
       "</style>\n",
       "<table border=\"1\" class=\"dataframe\">\n",
       "  <thead>\n",
       "    <tr style=\"text-align: right;\">\n",
       "      <th></th>\n",
       "      <th>temperature</th>\n",
       "    </tr>\n",
       "  </thead>\n",
       "  <tbody>\n",
       "    <tr>\n",
       "      <th>count</th>\n",
       "      <td>576.000000</td>\n",
       "    </tr>\n",
       "    <tr>\n",
       "      <th>mean</th>\n",
       "      <td>22.712153</td>\n",
       "    </tr>\n",
       "    <tr>\n",
       "      <th>std</th>\n",
       "      <td>4.231936</td>\n",
       "    </tr>\n",
       "    <tr>\n",
       "      <th>min</th>\n",
       "      <td>15.100000</td>\n",
       "    </tr>\n",
       "    <tr>\n",
       "      <th>25%</th>\n",
       "      <td>18.875000</td>\n",
       "    </tr>\n",
       "    <tr>\n",
       "      <th>50%</th>\n",
       "      <td>22.650000</td>\n",
       "    </tr>\n",
       "    <tr>\n",
       "      <th>75%</th>\n",
       "      <td>26.300000</td>\n",
       "    </tr>\n",
       "    <tr>\n",
       "      <th>max</th>\n",
       "      <td>32.000000</td>\n",
       "    </tr>\n",
       "  </tbody>\n",
       "</table>\n",
       "</div>"
      ],
      "text/plain": [
       "       temperature\n",
       "count   576.000000\n",
       "mean     22.712153\n",
       "std       4.231936\n",
       "min      15.100000\n",
       "25%      18.875000\n",
       "50%      22.650000\n",
       "75%      26.300000\n",
       "max      32.000000"
      ]
     },
     "execution_count": 26,
     "metadata": {},
     "output_type": "execute_result"
    }
   ],
   "source": [
    "df_monthly.describe()"
   ]
  },
  {
   "cell_type": "code",
   "execution_count": 27,
   "id": "feb8865a-b4e4-491e-993f-444129955269",
   "metadata": {},
   "outputs": [
    {
     "data": {
      "text/html": [
       "<div>\n",
       "<style scoped>\n",
       "    .dataframe tbody tr th:only-of-type {\n",
       "        vertical-align: middle;\n",
       "    }\n",
       "\n",
       "    .dataframe tbody tr th {\n",
       "        vertical-align: top;\n",
       "    }\n",
       "\n",
       "    .dataframe thead th {\n",
       "        text-align: right;\n",
       "    }\n",
       "</style>\n",
       "<table border=\"1\" class=\"dataframe\">\n",
       "  <thead>\n",
       "    <tr style=\"text-align: right;\">\n",
       "      <th></th>\n",
       "      <th>temperature</th>\n",
       "    </tr>\n",
       "  </thead>\n",
       "  <tbody>\n",
       "    <tr>\n",
       "      <th>count</th>\n",
       "      <td>17532.000000</td>\n",
       "    </tr>\n",
       "    <tr>\n",
       "      <th>mean</th>\n",
       "      <td>18.973386</td>\n",
       "    </tr>\n",
       "    <tr>\n",
       "      <th>std</th>\n",
       "      <td>4.373612</td>\n",
       "    </tr>\n",
       "    <tr>\n",
       "      <th>min</th>\n",
       "      <td>3.200000</td>\n",
       "    </tr>\n",
       "    <tr>\n",
       "      <th>25%</th>\n",
       "      <td>15.500000</td>\n",
       "    </tr>\n",
       "    <tr>\n",
       "      <th>50%</th>\n",
       "      <td>18.600000</td>\n",
       "    </tr>\n",
       "    <tr>\n",
       "      <th>75%</th>\n",
       "      <td>22.400000</td>\n",
       "    </tr>\n",
       "    <tr>\n",
       "      <th>max</th>\n",
       "      <td>32.000000</td>\n",
       "    </tr>\n",
       "  </tbody>\n",
       "</table>\n",
       "</div>"
      ],
      "text/plain": [
       "        temperature\n",
       "count  17532.000000\n",
       "mean      18.973386\n",
       "std        4.373612\n",
       "min        3.200000\n",
       "25%       15.500000\n",
       "50%       18.600000\n",
       "75%       22.400000\n",
       "max       32.000000"
      ]
     },
     "execution_count": 27,
     "metadata": {},
     "output_type": "execute_result"
    }
   ],
   "source": [
    "df.describe()"
   ]
  },
  {
   "cell_type": "markdown",
   "id": "769fdf1e-84be-433a-b9a2-c9e2ad97d098",
   "metadata": {},
   "source": [
    "### calculate the climatological 90th percentile (value exceeded only 10% of the time)"
   ]
  },
  {
   "cell_type": "code",
   "execution_count": 28,
   "id": "691b2dcf-8066-45b6-8fc6-d724685ae495",
   "metadata": {},
   "outputs": [],
   "source": [
    "clim = df_monthly.loc['1990':'2020',:]"
   ]
  },
  {
   "cell_type": "code",
   "execution_count": 29,
   "id": "a9c62804-4eec-4c64-a105-32191cbc36aa",
   "metadata": {},
   "outputs": [],
   "source": [
    "clim_q90 = clim.groupby(clim.index.month).quantile(0.90)"
   ]
  },
  {
   "cell_type": "code",
   "execution_count": 30,
   "id": "d4222ba2-ab5d-4456-ab9d-e2cde3ccee51",
   "metadata": {},
   "outputs": [
    {
     "data": {
      "text/html": [
       "<div>\n",
       "<style scoped>\n",
       "    .dataframe tbody tr th:only-of-type {\n",
       "        vertical-align: middle;\n",
       "    }\n",
       "\n",
       "    .dataframe tbody tr th {\n",
       "        vertical-align: top;\n",
       "    }\n",
       "\n",
       "    .dataframe thead th {\n",
       "        text-align: right;\n",
       "    }\n",
       "</style>\n",
       "<table border=\"1\" class=\"dataframe\">\n",
       "  <thead>\n",
       "    <tr style=\"text-align: right;\">\n",
       "      <th></th>\n",
       "      <th>temperature</th>\n",
       "    </tr>\n",
       "    <tr>\n",
       "      <th>date</th>\n",
       "      <th></th>\n",
       "    </tr>\n",
       "  </thead>\n",
       "  <tbody>\n",
       "    <tr>\n",
       "      <th>1</th>\n",
       "      <td>30.60</td>\n",
       "    </tr>\n",
       "    <tr>\n",
       "      <th>2</th>\n",
       "      <td>30.04</td>\n",
       "    </tr>\n",
       "    <tr>\n",
       "      <th>3</th>\n",
       "      <td>28.55</td>\n",
       "    </tr>\n",
       "    <tr>\n",
       "      <th>4</th>\n",
       "      <td>25.81</td>\n",
       "    </tr>\n",
       "    <tr>\n",
       "      <th>5</th>\n",
       "      <td>22.11</td>\n",
       "    </tr>\n",
       "    <tr>\n",
       "      <th>6</th>\n",
       "      <td>19.37</td>\n",
       "    </tr>\n",
       "    <tr>\n",
       "      <th>7</th>\n",
       "      <td>18.13</td>\n",
       "    </tr>\n",
       "    <tr>\n",
       "      <th>8</th>\n",
       "      <td>19.01</td>\n",
       "    </tr>\n",
       "    <tr>\n",
       "      <th>9</th>\n",
       "      <td>20.91</td>\n",
       "    </tr>\n",
       "    <tr>\n",
       "      <th>10</th>\n",
       "      <td>22.91</td>\n",
       "    </tr>\n",
       "    <tr>\n",
       "      <th>11</th>\n",
       "      <td>26.33</td>\n",
       "    </tr>\n",
       "    <tr>\n",
       "      <th>12</th>\n",
       "      <td>28.00</td>\n",
       "    </tr>\n",
       "  </tbody>\n",
       "</table>\n",
       "</div>"
      ],
      "text/plain": [
       "      temperature\n",
       "date             \n",
       "1           30.60\n",
       "2           30.04\n",
       "3           28.55\n",
       "4           25.81\n",
       "5           22.11\n",
       "6           19.37\n",
       "7           18.13\n",
       "8           19.01\n",
       "9           20.91\n",
       "10          22.91\n",
       "11          26.33\n",
       "12          28.00"
      ]
     },
     "execution_count": 30,
     "metadata": {},
     "output_type": "execute_result"
    }
   ],
   "source": [
    "clim_q90"
   ]
  },
  {
   "cell_type": "code",
   "execution_count": 31,
   "id": "d9cc1352-0acd-409e-bec8-0246044f17c0",
   "metadata": {},
   "outputs": [
    {
     "data": {
      "text/plain": [
       "<AxesSubplot:xlabel='date'>"
      ]
     },
     "execution_count": 31,
     "metadata": {},
     "output_type": "execute_result"
    },
    {
     "data": {
      "image/png": "[encoded data removed]",
      "text/plain": [
       "<Figure size 720x360 with 1 Axes>"
      ]
     },
     "metadata": {
      "needs_background": "light"
     },
     "output_type": "display_data"
    }
   ],
   "source": [
    "clim_q90.plot()"
   ]
  },
  {
   "cell_type": "markdown",
   "id": "93a837e0-070a-44b7-b284-8182168b944a",
   "metadata": {},
   "source": [
    "### repeat these values along the whole time-series "
   ]
  },
  {
   "cell_type": "code",
   "execution_count": 32,
   "id": "d3a684b1-2941-4e16-812d-c8850093a991",
   "metadata": {},
   "outputs": [],
   "source": [
    "clim_q90 = clim_q90.loc[df_monthly.index.month,:]"
   ]
  },
  {
   "cell_type": "code",
   "execution_count": 33,
   "id": "05ad99a2-80f0-4e54-bc46-547ab5b58359",
   "metadata": {},
   "outputs": [
    {
     "data": {
      "text/html": [
       "<div>\n",
       "<style scoped>\n",
       "    .dataframe tbody tr th:only-of-type {\n",
       "        vertical-align: middle;\n",
       "    }\n",
       "\n",
       "    .dataframe tbody tr th {\n",
       "        vertical-align: top;\n",
       "    }\n",
       "\n",
       "    .dataframe thead th {\n",
       "        text-align: right;\n",
       "    }\n",
       "</style>\n",
       "<table border=\"1\" class=\"dataframe\">\n",
       "  <thead>\n",
       "    <tr style=\"text-align: right;\">\n",
       "      <th></th>\n",
       "      <th>temperature</th>\n",
       "    </tr>\n",
       "    <tr>\n",
       "      <th>date</th>\n",
       "      <th></th>\n",
       "    </tr>\n",
       "  </thead>\n",
       "  <tbody>\n",
       "    <tr>\n",
       "      <th>1</th>\n",
       "      <td>30.60</td>\n",
       "    </tr>\n",
       "    <tr>\n",
       "      <th>2</th>\n",
       "      <td>30.04</td>\n",
       "    </tr>\n",
       "    <tr>\n",
       "      <th>3</th>\n",
       "      <td>28.55</td>\n",
       "    </tr>\n",
       "    <tr>\n",
       "      <th>4</th>\n",
       "      <td>25.81</td>\n",
       "    </tr>\n",
       "    <tr>\n",
       "      <th>5</th>\n",
       "      <td>22.11</td>\n",
       "    </tr>\n",
       "  </tbody>\n",
       "</table>\n",
       "</div>"
      ],
      "text/plain": [
       "      temperature\n",
       "date             \n",
       "1           30.60\n",
       "2           30.04\n",
       "3           28.55\n",
       "4           25.81\n",
       "5           22.11"
      ]
     },
     "execution_count": 33,
     "metadata": {},
     "output_type": "execute_result"
    }
   ],
   "source": [
    "clim_q90.head()"
   ]
  },
  {
   "cell_type": "code",
   "execution_count": 34,
   "id": "96656047-c2f3-4e57-8ae2-ae1f526d8f30",
   "metadata": {},
   "outputs": [
    {
     "data": {
      "text/plain": [
       "576"
      ]
     },
     "execution_count": 34,
     "metadata": {},
     "output_type": "execute_result"
    }
   ],
   "source": [
    "len(clim_q90)"
   ]
  },
  {
   "cell_type": "code",
   "execution_count": 35,
   "id": "30937563-da13-4f59-baa5-1b010486e964",
   "metadata": {},
   "outputs": [
    {
     "data": {
      "text/plain": [
       "576"
      ]
     },
     "execution_count": 35,
     "metadata": {},
     "output_type": "execute_result"
    }
   ],
   "source": [
    "len(df_monthly)"
   ]
  },
  {
   "cell_type": "code",
   "execution_count": 36,
   "id": "4e330e8c-a2d2-452c-8bc2-177256c789a5",
   "metadata": {},
   "outputs": [],
   "source": [
    "df_monthly.loc[:,'q90'] = clim_q90.values"
   ]
  },
  {
   "cell_type": "code",
   "execution_count": 37,
   "id": "691c3b71-a5a4-4287-b4e7-ba1f7c719e7f",
   "metadata": {},
   "outputs": [
    {
     "data": {
      "text/html": [
       "<div>\n",
       "<style scoped>\n",
       "    .dataframe tbody tr th:only-of-type {\n",
       "        vertical-align: middle;\n",
       "    }\n",
       "\n",
       "    .dataframe tbody tr th {\n",
       "        vertical-align: top;\n",
       "    }\n",
       "\n",
       "    .dataframe thead th {\n",
       "        text-align: right;\n",
       "    }\n",
       "</style>\n",
       "<table border=\"1\" class=\"dataframe\">\n",
       "  <thead>\n",
       "    <tr style=\"text-align: right;\">\n",
       "      <th></th>\n",
       "      <th>temperature</th>\n",
       "      <th>q90</th>\n",
       "    </tr>\n",
       "    <tr>\n",
       "      <th>date</th>\n",
       "      <th></th>\n",
       "      <th></th>\n",
       "    </tr>\n",
       "  </thead>\n",
       "  <tbody>\n",
       "    <tr>\n",
       "      <th>1972-01-31</th>\n",
       "      <td>26.7</td>\n",
       "      <td>30.60</td>\n",
       "    </tr>\n",
       "    <tr>\n",
       "      <th>1972-02-29</th>\n",
       "      <td>28.3</td>\n",
       "      <td>30.04</td>\n",
       "    </tr>\n",
       "    <tr>\n",
       "      <th>1972-03-31</th>\n",
       "      <td>26.3</td>\n",
       "      <td>28.55</td>\n",
       "    </tr>\n",
       "    <tr>\n",
       "      <th>1972-04-30</th>\n",
       "      <td>23.5</td>\n",
       "      <td>25.81</td>\n",
       "    </tr>\n",
       "    <tr>\n",
       "      <th>1972-05-31</th>\n",
       "      <td>20.4</td>\n",
       "      <td>22.11</td>\n",
       "    </tr>\n",
       "  </tbody>\n",
       "</table>\n",
       "</div>"
      ],
      "text/plain": [
       "            temperature    q90\n",
       "date                          \n",
       "1972-01-31         26.7  30.60\n",
       "1972-02-29         28.3  30.04\n",
       "1972-03-31         26.3  28.55\n",
       "1972-04-30         23.5  25.81\n",
       "1972-05-31         20.4  22.11"
      ]
     },
     "execution_count": 37,
     "metadata": {},
     "output_type": "execute_result"
    }
   ],
   "source": [
    "df_monthly.head()"
   ]
  },
  {
   "cell_type": "markdown",
   "id": "21b2bb2c-0848-4c74-9004-d1ac28a9032f",
   "metadata": {},
   "source": [
    "### we can now do some comparisons "
   ]
  },
  {
   "cell_type": "code",
   "execution_count": 38,
   "id": "8a89b7da-b8fd-4b6d-8d19-51a46a6df172",
   "metadata": {},
   "outputs": [
    {
     "data": {
      "text/plain": [
       "date\n",
       "1972-01-31    False\n",
       "1972-02-29    False\n",
       "1972-03-31    False\n",
       "1972-04-30    False\n",
       "1972-05-31    False\n",
       "              ...  \n",
       "2019-08-31    False\n",
       "2019-09-30    False\n",
       "2019-10-31    False\n",
       "2019-11-30     True\n",
       "2019-12-31    False\n",
       "Freq: M, Length: 576, dtype: bool"
      ]
     },
     "execution_count": 38,
     "metadata": {},
     "output_type": "execute_result"
    }
   ],
   "source": [
    "df_monthly.loc[:,'temperature'] >= df_monthly.loc[:,'q90']"
   ]
  },
  {
   "cell_type": "code",
   "execution_count": 39,
   "id": "69a288a6-c517-4d88-8cb0-0bd5b5452ffc",
   "metadata": {},
   "outputs": [],
   "source": [
    "hot_months = df_monthly.loc[df_monthly.temperature >= df_monthly.q90,'temperature']"
   ]
  },
  {
   "cell_type": "code",
   "execution_count": 40,
   "id": "b3a3e122-e928-498c-8795-29688990a956",
   "metadata": {},
   "outputs": [
    {
     "data": {
      "text/plain": [
       "date\n",
       "1972-07-31    18.9\n",
       "1973-02-28    31.1\n",
       "1973-09-30    23.4\n",
       "1973-12-31    28.2\n",
       "1974-01-31    31.1\n",
       "Name: temperature, dtype: float64"
      ]
     },
     "execution_count": 40,
     "metadata": {},
     "output_type": "execute_result"
    }
   ],
   "source": [
    "hot_months.head()"
   ]
  },
  {
   "cell_type": "code",
   "execution_count": 41,
   "id": "20b75750-80e7-4152-969c-ca2e8bd2c196",
   "metadata": {},
   "outputs": [
    {
     "data": {
      "text/plain": [
       "60"
      ]
     },
     "execution_count": 41,
     "metadata": {},
     "output_type": "execute_result"
    }
   ],
   "source": [
    "len(hot_months)"
   ]
  },
  {
   "cell_type": "markdown",
   "id": "4c20fb2f-a35a-45c5-acc5-c778c7da578f",
   "metadata": {},
   "source": [
    "### use the `reindex` method to create a continuous time-series (NaNs (Not a Number, i.e. missing values) will be inserted)"
   ]
  },
  {
   "cell_type": "code",
   "execution_count": 42,
   "id": "2ef31556-8f89-43ba-af73-f461c8b0bd89",
   "metadata": {},
   "outputs": [],
   "source": [
    "hot_months = hot_months.reindex(df_monthly.index)"
   ]
  },
  {
   "cell_type": "code",
   "execution_count": 43,
   "id": "d1f98b75-d072-4e38-a207-d1fed1244731",
   "metadata": {},
   "outputs": [
    {
     "data": {
      "text/plain": [
       "<AxesSubplot:xlabel='date'>"
      ]
     },
     "execution_count": 43,
     "metadata": {},
     "output_type": "execute_result"
    },
    {
     "data": {
      "image/png": "[encoded data removed]",
      "text/plain": [
       "<Figure size 720x360 with 1 Axes>"
      ]
     },
     "metadata": {
      "needs_background": "light"
     },
     "output_type": "display_data"
    }
   ],
   "source": [
    "hot_months.plot(marker='o', linewidth=0)"
   ]
  },
  {
   "cell_type": "code",
   "execution_count": null,
   "id": "1316c940-9450-48cf-baab-aac9ee5ec326",
   "metadata": {},
   "outputs": [],
   "source": []
  }
 ],
 "metadata": {
  "kernelspec": {
   "display_name": "Python 3 (ipykernel)",
   "language": "python",
   "name": "python3"
  },
  "language_info": {
   "codemirror_mode": {
    "name": "ipython",
    "version": 3
   },
   "file_extension": ".py",
   "mimetype": "text/x-python",
   "name": "python",
   "nbconvert_exporter": "python",
   "pygments_lexer": "ipython3",
   "version": "3.10.4"
  }
 },
 "nbformat": 4,
 "nbformat_minor": 5
}
