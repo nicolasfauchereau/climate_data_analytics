{
 "cells": [
  {
   "cell_type": "markdown",
   "id": "6658327a-72b5-4b65-a9f3-3217b0e9d40c",
   "metadata": {},
   "source": [
    "## reading CSV files with Pandas and some simple Dataframe manipulations"
   ]
  },
  {
   "cell_type": "code",
   "execution_count": null,
   "id": "925d4535-e31e-496d-99ba-9f7843b45474",
   "metadata": {},
   "outputs": [],
   "source": [
    "%matplotlib inline\n",
    "\n",
    "### pathlib\n",
    "import pathlib\n",
    "\n",
    "### scipy\n",
    "import numpy as np\n",
    "import pandas as pd\n",
    "\n",
    "### plotting\n",
    "from matplotlib import pyplot as plt\n",
    "import matplotlib"
   ]
  },
  {
   "cell_type": "code",
   "execution_count": null,
   "id": "5a228c33-74ac-484e-a3f9-a745edd8d842",
   "metadata": {},
   "outputs": [],
   "source": [
    "import pathlib"
   ]
  },
  {
   "cell_type": "code",
   "execution_count": null,
   "id": "f9b503e7-5cea-423c-af47-b40ef698f49d",
   "metadata": {},
   "outputs": [],
   "source": [
    "plt.rcParams['figure.figsize'] = (10,5)\n",
    "plt.rcParams['font.size'] = 14\n",
    "plt.rcParams['lines.linewidth'] = 2"
   ]
  },
  {
   "cell_type": "markdown",
   "id": "3e149a9d-1438-4d5a-a3f1-a94528d45852",
   "metadata": {},
   "source": [
    "#### Daily temperature data for 30 NZ stations from https://data.mfe.govt.nz/table/105056-daily-temperature-1909-2019/ "
   ]
  },
  {
   "cell_type": "code",
   "execution_count": null,
   "id": "b3ca4487-b2fd-4e8a-9b16-8407ecf427c7",
   "metadata": {},
   "outputs": [],
   "source": [
    "dpath = pathlib.Path('/media/nicolasf/END19101/data/NZ_station_data/temperature/')"
   ]
  },
  {
   "cell_type": "markdown",
   "id": "48ec8b6f-4370-441e-b9f0-18c959d98bc2",
   "metadata": {},
   "source": [
    "#### read the data in csv, setting up the index (labels along the rows) to be the first column (indexing starts at 0 in Python)"
   ]
  },
  {
   "cell_type": "code",
   "execution_count": null,
   "id": "665f99e7-b198-486c-9516-ff8727d2cc27",
   "metadata": {},
   "outputs": [],
   "source": [
    "data = pd.read_csv(dpath.joinpath('daily-temperature-1909-2019.csv'), index_col=0)"
   ]
  },
  {
   "cell_type": "code",
   "execution_count": null,
   "id": "47c0d3aa-f949-4164-b75f-0f0be9ca67ec",
   "metadata": {},
   "outputs": [],
   "source": [
    "data.head()"
   ]
  },
  {
   "cell_type": "code",
   "execution_count": null,
   "id": "c72a43dc-761a-45fb-a614-803b94356db0",
   "metadata": {},
   "outputs": [],
   "source": [
    "location_names = data.index.unique()"
   ]
  },
  {
   "cell_type": "code",
   "execution_count": null,
   "id": "189031b4-c325-43f9-adc3-a07f3bda22b7",
   "metadata": {},
   "outputs": [],
   "source": [
    "location_names"
   ]
  },
  {
   "cell_type": "code",
   "execution_count": null,
   "id": "86abe046-9c5e-4a76-ad5e-ea9f4fd8ef08",
   "metadata": {},
   "outputs": [],
   "source": [
    "len(location_names)"
   ]
  },
  {
   "cell_type": "markdown",
   "id": "68b27cab-90a5-4d2a-8b06-f6a6888953ed",
   "metadata": {},
   "source": [
    "### select a location (index) and a statistic in the `statistic` column "
   ]
  },
  {
   "cell_type": "code",
   "execution_count": null,
   "id": "c6d0cef1-457c-4113-ba45-66ac7950e027",
   "metadata": {},
   "outputs": [],
   "source": [
    "location = 'Hamilton'"
   ]
  },
  {
   "cell_type": "code",
   "execution_count": null,
   "id": "fe0da35f-a544-4ebc-bd8b-7d22a033556f",
   "metadata": {},
   "outputs": [],
   "source": [
    "statistic = 'Maximum'"
   ]
  },
  {
   "cell_type": "code",
   "execution_count": null,
   "id": "9afebd58-1c7d-41b1-895e-1ad6b74f816c",
   "metadata": {},
   "outputs": [],
   "source": [
    "df = data.loc[location,:].query(f\"statistic == '{statistic}'\")"
   ]
  },
  {
   "cell_type": "code",
   "execution_count": null,
   "id": "ab5da629-ddc6-4fa5-84da-d365d1a6760f",
   "metadata": {},
   "outputs": [],
   "source": [
    "df.head()"
   ]
  },
  {
   "cell_type": "code",
   "execution_count": null,
   "id": "6a3e724d-42d1-4403-b2a8-586bc6368ed0",
   "metadata": {},
   "outputs": [],
   "source": [
    "df.info()"
   ]
  },
  {
   "cell_type": "code",
   "execution_count": null,
   "id": "1b831d2c-1d2c-4101-8a8d-67398718b908",
   "metadata": {},
   "outputs": [],
   "source": [
    "df = df.set_index('date')"
   ]
  },
  {
   "cell_type": "code",
   "execution_count": null,
   "id": "cf412411-5be4-4e0e-a0fc-7a55bf8b092a",
   "metadata": {},
   "outputs": [],
   "source": [
    "df.head()"
   ]
  },
  {
   "cell_type": "code",
   "execution_count": null,
   "id": "56b69642-ebda-4c8d-90ca-11be94767076",
   "metadata": {},
   "outputs": [],
   "source": [
    "df.info()"
   ]
  },
  {
   "cell_type": "code",
   "execution_count": null,
   "id": "ef5027a2-67ca-4fc3-b876-9158e92e341e",
   "metadata": {},
   "outputs": [],
   "source": [
    "df.index"
   ]
  },
  {
   "cell_type": "code",
   "execution_count": null,
   "id": "b1996cba-5b07-45b8-a244-1cc8b0136c80",
   "metadata": {},
   "outputs": [],
   "source": [
    "df.index = pd.to_datetime(df.index)"
   ]
  },
  {
   "cell_type": "code",
   "execution_count": null,
   "id": "4f244e44-bfb7-46f9-afad-a1a5496d026e",
   "metadata": {},
   "outputs": [],
   "source": [
    "df.index"
   ]
  },
  {
   "cell_type": "code",
   "execution_count": null,
   "id": "18e5c459-e623-4107-b714-3540b0dad6fe",
   "metadata": {},
   "outputs": [],
   "source": [
    "df = df[['temperature']]"
   ]
  },
  {
   "cell_type": "code",
   "execution_count": null,
   "id": "c3200d89-eab9-4664-935f-77b7a44a7b4a",
   "metadata": {},
   "outputs": [],
   "source": [
    "df.head()"
   ]
  },
  {
   "cell_type": "code",
   "execution_count": null,
   "id": "2ddf1731-5c6b-4923-a2ee-575c029084ae",
   "metadata": {},
   "outputs": [],
   "source": [
    "df.plot()"
   ]
  },
  {
   "cell_type": "markdown",
   "id": "dac54619-b12c-484d-bb26-5d0d20790b5b",
   "metadata": {},
   "source": [
    "### resampling, take the maximum daily temperature for each calendar month"
   ]
  },
  {
   "cell_type": "code",
   "execution_count": null,
   "id": "6305abba-0d0f-4645-9aeb-d4359f56cb49",
   "metadata": {},
   "outputs": [],
   "source": [
    "df_monthly = df.resample('1M').max()"
   ]
  },
  {
   "cell_type": "code",
   "execution_count": null,
   "id": "c2fc7f92-95d2-4d50-8181-8ebccb33b231",
   "metadata": {},
   "outputs": [],
   "source": [
    "df_monthly.plot()"
   ]
  },
  {
   "cell_type": "code",
   "execution_count": null,
   "id": "10f06e60-5a3a-44c8-9def-b3abf8180055",
   "metadata": {},
   "outputs": [],
   "source": [
    "df_monthly.describe()"
   ]
  },
  {
   "cell_type": "code",
   "execution_count": null,
   "id": "feb8865a-b4e4-491e-993f-444129955269",
   "metadata": {},
   "outputs": [],
   "source": [
    "df.describe()"
   ]
  },
  {
   "cell_type": "markdown",
   "id": "769fdf1e-84be-433a-b9a2-c9e2ad97d098",
   "metadata": {},
   "source": [
    "### calculate the climatological 90th percentile (value exceeded only 10% of the time)"
   ]
  },
  {
   "cell_type": "code",
   "execution_count": null,
   "id": "691b2dcf-8066-45b6-8fc6-d724685ae495",
   "metadata": {},
   "outputs": [],
   "source": [
    "clim = df_monthly.loc['1990':'2020',:]"
   ]
  },
  {
   "cell_type": "code",
   "execution_count": null,
   "id": "a9c62804-4eec-4c64-a105-32191cbc36aa",
   "metadata": {},
   "outputs": [],
   "source": [
    "clim_q90 = clim.groupby(clim.index.month).quantile(0.90)"
   ]
  },
  {
   "cell_type": "code",
   "execution_count": null,
   "id": "d4222ba2-ab5d-4456-ab9d-e2cde3ccee51",
   "metadata": {},
   "outputs": [],
   "source": [
    "clim_q90"
   ]
  },
  {
   "cell_type": "code",
   "execution_count": null,
   "id": "d9cc1352-0acd-409e-bec8-0246044f17c0",
   "metadata": {},
   "outputs": [],
   "source": [
    "clim_q90.plot()"
   ]
  },
  {
   "cell_type": "markdown",
   "id": "93a837e0-070a-44b7-b284-8182168b944a",
   "metadata": {},
   "source": [
    "### repeat these values along the whole time-series "
   ]
  },
  {
   "cell_type": "code",
   "execution_count": null,
   "id": "d3a684b1-2941-4e16-812d-c8850093a991",
   "metadata": {},
   "outputs": [],
   "source": [
    "clim_q90 = clim_q90.loc[df_monthly.index.month,:]"
   ]
  },
  {
   "cell_type": "code",
   "execution_count": null,
   "id": "05ad99a2-80f0-4e54-bc46-547ab5b58359",
   "metadata": {},
   "outputs": [],
   "source": [
    "clim_q90.head()"
   ]
  },
  {
   "cell_type": "code",
   "execution_count": null,
   "id": "96656047-c2f3-4e57-8ae2-ae1f526d8f30",
   "metadata": {},
   "outputs": [],
   "source": [
    "len(clim_q90)"
   ]
  },
  {
   "cell_type": "code",
   "execution_count": null,
   "id": "30937563-da13-4f59-baa5-1b010486e964",
   "metadata": {},
   "outputs": [],
   "source": [
    "len(df_monthly)"
   ]
  },
  {
   "cell_type": "code",
   "execution_count": null,
   "id": "4e330e8c-a2d2-452c-8bc2-177256c789a5",
   "metadata": {},
   "outputs": [],
   "source": [
    "df_monthly.loc[:,'q90'] = clim_q90.values"
   ]
  },
  {
   "cell_type": "code",
   "execution_count": null,
   "id": "691c3b71-a5a4-4287-b4e7-ba1f7c719e7f",
   "metadata": {},
   "outputs": [],
   "source": [
    "df_monthly.head()"
   ]
  },
  {
   "cell_type": "markdown",
   "id": "21b2bb2c-0848-4c74-9004-d1ac28a9032f",
   "metadata": {},
   "source": [
    "### we can now do some comparisons "
   ]
  },
  {
   "cell_type": "code",
   "execution_count": null,
   "id": "8a89b7da-b8fd-4b6d-8d19-51a46a6df172",
   "metadata": {},
   "outputs": [],
   "source": [
    "df_monthly.loc[:,'temperature'] >= df_monthly.loc[:,'q90']"
   ]
  },
  {
   "cell_type": "code",
   "execution_count": null,
   "id": "69a288a6-c517-4d88-8cb0-0bd5b5452ffc",
   "metadata": {},
   "outputs": [],
   "source": [
    "hot_months = df_monthly.loc[df_monthly.temperature >= df_monthly.q90,'temperature']"
   ]
  },
  {
   "cell_type": "code",
   "execution_count": null,
   "id": "b3a3e122-e928-498c-8795-29688990a956",
   "metadata": {},
   "outputs": [],
   "source": [
    "hot_months.head()"
   ]
  },
  {
   "cell_type": "code",
   "execution_count": null,
   "id": "20b75750-80e7-4152-969c-ca2e8bd2c196",
   "metadata": {},
   "outputs": [],
   "source": [
    "len(hot_months)"
   ]
  },
  {
   "cell_type": "markdown",
   "id": "4c20fb2f-a35a-45c5-acc5-c778c7da578f",
   "metadata": {},
   "source": [
    "### use the `reindex` method to create a continuous time-series (NaNs (Not a Number, i.e. missing values) will be inserted)"
   ]
  },
  {
   "cell_type": "code",
   "execution_count": null,
   "id": "2ef31556-8f89-43ba-af73-f461c8b0bd89",
   "metadata": {},
   "outputs": [],
   "source": [
    "hot_months = hot_months.reindex(df_monthly.index)"
   ]
  },
  {
   "cell_type": "code",
   "execution_count": null,
   "id": "d1f98b75-d072-4e38-a207-d1fed1244731",
   "metadata": {},
   "outputs": [],
   "source": [
    "hot_months.plot(marker='o', linewidth=0)"
   ]
  },
  {
   "cell_type": "code",
   "execution_count": null,
   "id": "1316c940-9450-48cf-baab-aac9ee5ec326",
   "metadata": {},
   "outputs": [],
   "source": []
  }
 ],
 "metadata": {
  "kernelspec": {
   "display_name": "Python 3 (ipykernel)",
   "language": "python",
   "name": "python3"
  },
  "language_info": {
   "codemirror_mode": {
    "name": "ipython",
    "version": 3
   },
   "file_extension": ".py",
   "mimetype": "text/x-python",
   "name": "python",
   "nbconvert_exporter": "python",
   "pygments_lexer": "ipython3",
   "version": "3.10.4"
  }
 },
 "nbformat": 4,
 "nbformat_minor": 5
}
