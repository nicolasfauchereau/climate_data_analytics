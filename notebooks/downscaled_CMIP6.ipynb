{
 "cells": [
  {
   "cell_type": "markdown",
   "id": "eaa7bae7-1687-43c1-b40f-138863d753a4",
   "metadata": {},
   "source": [
    "# Some **downscaled** CMIP6 climate change scenario data "
   ]
  },
  {
   "cell_type": "code",
   "execution_count": 1,
   "id": "66579f2c-83a8-4c9a-8d71-fa03acc2c1e9",
   "metadata": {},
   "outputs": [],
   "source": [
    "%matplotlib inline"
   ]
  },
  {
   "cell_type": "code",
   "execution_count": 2,
   "id": "764d3b02-9862-43d8-9820-d15793bca7ef",
   "metadata": {},
   "outputs": [],
   "source": [
    "from matplotlib import pyplot as plt"
   ]
  },
  {
   "cell_type": "code",
   "execution_count": 3,
   "id": "ef08437a-bb31-491d-85d1-c7fb08df0441",
   "metadata": {},
   "outputs": [],
   "source": [
    "import xarray as xr"
   ]
  },
  {
   "cell_type": "code",
   "execution_count": 4,
   "id": "aece0801-c3e0-44cc-8333-0365b2e6267b",
   "metadata": {},
   "outputs": [],
   "source": [
    "from IPython.display import IFrame"
   ]
  },
  {
   "cell_type": "markdown",
   "id": "02bdfa49-765e-4afc-9452-7ed91864890b",
   "metadata": {},
   "source": [
    "## NASA Global Daily Downscaled Projections (NEX-GDDP-CMIP6) "
   ]
  },
  {
   "cell_type": "markdown",
   "id": "62162b80-b4b2-495e-99d8-2f2dedfb96d7",
   "metadata": {},
   "source": [
    "https://www.nccs.nasa.gov/services/data-collections/land-based-products/nex-gddp-cmip6"
   ]
  },
  {
   "cell_type": "markdown",
   "id": "2e2c606b-cf89-4518-a9b8-54970947f8ce",
   "metadata": {},
   "source": [
    "THREDDS server catalog: \n",
    "    \n",
    "https://ds.nccs.nasa.gov/thredds/catalog/AMES/NEX/GDDP-CMIP6/catalog.html "
   ]
  },
  {
   "cell_type": "code",
   "execution_count": 5,
   "id": "10463537-796c-4383-ad0d-6cdcdcb6729c",
   "metadata": {},
   "outputs": [],
   "source": [
    "url = 'https://ds.nccs.nasa.gov/thredds/dodsC/AMES/NEX/GDDP-CMIP6/ACCESS-CM2/historical/r1i1p1f1/tasmax/tasmax_day_ACCESS-CM2_historical_r1i1p1f1_gn_2014.nc'"
   ]
  },
  {
   "cell_type": "code",
   "execution_count": 6,
   "id": "d930bd9a-ab37-4470-add6-5b99153db568",
   "metadata": {},
   "outputs": [
    {
     "data": {
      "text/plain": [
       "'https://ds.nccs.nasa.gov/thredds/dodsC/AMES/NEX/GDDP-CMIP6/ACCESS-CM2/historical/r1i1p1f1/tasmax/tasmax_day_ACCESS-CM2_historical_r1i1p1f1_gn_2014.nc'"
      ]
     },
     "execution_count": 6,
     "metadata": {},
     "output_type": "execute_result"
    }
   ],
   "source": [
    "url"
   ]
  },
  {
   "cell_type": "code",
   "execution_count": 7,
   "id": "0acc7193-8e6c-4ca7-b564-67607e037aeb",
   "metadata": {},
   "outputs": [],
   "source": [
    "dset = xr.open_dataset(url)"
   ]
  },
  {
   "cell_type": "code",
   "execution_count": 8,
   "id": "55728359-2dd1-4f9f-a681-ff6a8873163c",
   "metadata": {},
   "outputs": [
    {
     "data": {
      "text/html": [
       "<div><svg style=\"position: absolute; width: 0; height: 0; overflow: hidden\">\n",
       "<defs>\n",
       "<symbol id=\"icon-database\" viewBox=\"0 0 32 32\">\n",
       "<path d=\"M16 0c-8.837 0-16 2.239-16 5v4c0 2.761 7.163 5 16 5s16-2.239 16-5v-4c0-2.761-7.163-5-16-5z\"></path>\n",
       "<path d=\"M16 17c-8.837 0-16-2.239-16-5v6c0 2.761 7.163 5 16 5s16-2.239 16-5v-6c0 2.761-7.163 5-16 5z\"></path>\n",
       "<path d=\"M16 26c-8.837 0-16-2.239-16-5v6c0 2.761 7.163 5 16 5s16-2.239 16-5v-6c0 2.761-7.163 5-16 5z\"></path>\n",
       "</symbol>\n",
       "<symbol id=\"icon-file-text2\" viewBox=\"0 0 32 32\">\n",
       "<path d=\"M28.681 7.159c-0.694-0.947-1.662-2.053-2.724-3.116s-2.169-2.030-3.116-2.724c-1.612-1.182-2.393-1.319-2.841-1.319h-15.5c-1.378 0-2.5 1.121-2.5 2.5v27c0 1.378 1.122 2.5 2.5 2.5h23c1.378 0 2.5-1.122 2.5-2.5v-19.5c0-0.448-0.137-1.23-1.319-2.841zM24.543 5.457c0.959 0.959 1.712 1.825 2.268 2.543h-4.811v-4.811c0.718 0.556 1.584 1.309 2.543 2.268zM28 29.5c0 0.271-0.229 0.5-0.5 0.5h-23c-0.271 0-0.5-0.229-0.5-0.5v-27c0-0.271 0.229-0.5 0.5-0.5 0 0 15.499-0 15.5 0v7c0 0.552 0.448 1 1 1h7v19.5z\"></path>\n",
       "<path d=\"M23 26h-14c-0.552 0-1-0.448-1-1s0.448-1 1-1h14c0.552 0 1 0.448 1 1s-0.448 1-1 1z\"></path>\n",
       "<path d=\"M23 22h-14c-0.552 0-1-0.448-1-1s0.448-1 1-1h14c0.552 0 1 0.448 1 1s-0.448 1-1 1z\"></path>\n",
       "<path d=\"M23 18h-14c-0.552 0-1-0.448-1-1s0.448-1 1-1h14c0.552 0 1 0.448 1 1s-0.448 1-1 1z\"></path>\n",
       "</symbol>\n",
       "</defs>\n",
       "</svg>\n",
       "<style>/* CSS stylesheet for displaying xarray objects in jupyterlab.\n",
       " *\n",
       " */\n",
       "\n",
       ":root {\n",
       "  --xr-font-color0: var(--jp-content-font-color0, rgba(0, 0, 0, 1));\n",
       "  --xr-font-color2: var(--jp-content-font-color2, rgba(0, 0, 0, 0.54));\n",
       "  --xr-font-color3: var(--jp-content-font-color3, rgba(0, 0, 0, 0.38));\n",
       "  --xr-border-color: var(--jp-border-color2, #e0e0e0);\n",
       "  --xr-disabled-color: var(--jp-layout-color3, #bdbdbd);\n",
       "  --xr-background-color: var(--jp-layout-color0, white);\n",
       "  --xr-background-color-row-even: var(--jp-layout-color1, white);\n",
       "  --xr-background-color-row-odd: var(--jp-layout-color2, #eeeeee);\n",
       "}\n",
       "\n",
       "html[theme=dark],\n",
       "body.vscode-dark {\n",
       "  --xr-font-color0: rgba(255, 255, 255, 1);\n",
       "  --xr-font-color2: rgba(255, 255, 255, 0.54);\n",
       "  --xr-font-color3: rgba(255, 255, 255, 0.38);\n",
       "  --xr-border-color: #1F1F1F;\n",
       "  --xr-disabled-color: #515151;\n",
       "  --xr-background-color: #111111;\n",
       "  --xr-background-color-row-even: #111111;\n",
       "  --xr-background-color-row-odd: #313131;\n",
       "}\n",
       "\n",
       ".xr-wrap {\n",
       "  display: block !important;\n",
       "  min-width: 300px;\n",
       "  max-width: 700px;\n",
       "}\n",
       "\n",
       ".xr-text-repr-fallback {\n",
       "  /* fallback to plain text repr when CSS is not injected (untrusted notebook) */\n",
       "  display: none;\n",
       "}\n",
       "\n",
       ".xr-header {\n",
       "  padding-top: 6px;\n",
       "  padding-bottom: 6px;\n",
       "  margin-bottom: 4px;\n",
       "  border-bottom: solid 1px var(--xr-border-color);\n",
       "}\n",
       "\n",
       ".xr-header > div,\n",
       ".xr-header > ul {\n",
       "  display: inline;\n",
       "  margin-top: 0;\n",
       "  margin-bottom: 0;\n",
       "}\n",
       "\n",
       ".xr-obj-type,\n",
       ".xr-array-name {\n",
       "  margin-left: 2px;\n",
       "  margin-right: 10px;\n",
       "}\n",
       "\n",
       ".xr-obj-type {\n",
       "  color: var(--xr-font-color2);\n",
       "}\n",
       "\n",
       ".xr-sections {\n",
       "  padding-left: 0 !important;\n",
       "  display: grid;\n",
       "  grid-template-columns: 150px auto auto 1fr 20px 20px;\n",
       "}\n",
       "\n",
       ".xr-section-item {\n",
       "  display: contents;\n",
       "}\n",
       "\n",
       ".xr-section-item input {\n",
       "  display: none;\n",
       "}\n",
       "\n",
       ".xr-section-item input + label {\n",
       "  color: var(--xr-disabled-color);\n",
       "}\n",
       "\n",
       ".xr-section-item input:enabled + label {\n",
       "  cursor: pointer;\n",
       "  color: var(--xr-font-color2);\n",
       "}\n",
       "\n",
       ".xr-section-item input:enabled + label:hover {\n",
       "  color: var(--xr-font-color0);\n",
       "}\n",
       "\n",
       ".xr-section-summary {\n",
       "  grid-column: 1;\n",
       "  color: var(--xr-font-color2);\n",
       "  font-weight: 500;\n",
       "}\n",
       "\n",
       ".xr-section-summary > span {\n",
       "  display: inline-block;\n",
       "  padding-left: 0.5em;\n",
       "}\n",
       "\n",
       ".xr-section-summary-in:disabled + label {\n",
       "  color: var(--xr-font-color2);\n",
       "}\n",
       "\n",
       ".xr-section-summary-in + label:before {\n",
       "  display: inline-block;\n",
       "  content: '►';\n",
       "  font-size: 11px;\n",
       "  width: 15px;\n",
       "  text-align: center;\n",
       "}\n",
       "\n",
       ".xr-section-summary-in:disabled + label:before {\n",
       "  color: var(--xr-disabled-color);\n",
       "}\n",
       "\n",
       ".xr-section-summary-in:checked + label:before {\n",
       "  content: '▼';\n",
       "}\n",
       "\n",
       ".xr-section-summary-in:checked + label > span {\n",
       "  display: none;\n",
       "}\n",
       "\n",
       ".xr-section-summary,\n",
       ".xr-section-inline-details {\n",
       "  padding-top: 4px;\n",
       "  padding-bottom: 4px;\n",
       "}\n",
       "\n",
       ".xr-section-inline-details {\n",
       "  grid-column: 2 / -1;\n",
       "}\n",
       "\n",
       ".xr-section-details {\n",
       "  display: none;\n",
       "  grid-column: 1 / -1;\n",
       "  margin-bottom: 5px;\n",
       "}\n",
       "\n",
       ".xr-section-summary-in:checked ~ .xr-section-details {\n",
       "  display: contents;\n",
       "}\n",
       "\n",
       ".xr-array-wrap {\n",
       "  grid-column: 1 / -1;\n",
       "  display: grid;\n",
       "  grid-template-columns: 20px auto;\n",
       "}\n",
       "\n",
       ".xr-array-wrap > label {\n",
       "  grid-column: 1;\n",
       "  vertical-align: top;\n",
       "}\n",
       "\n",
       ".xr-preview {\n",
       "  color: var(--xr-font-color3);\n",
       "}\n",
       "\n",
       ".xr-array-preview,\n",
       ".xr-array-data {\n",
       "  padding: 0 5px !important;\n",
       "  grid-column: 2;\n",
       "}\n",
       "\n",
       ".xr-array-data,\n",
       ".xr-array-in:checked ~ .xr-array-preview {\n",
       "  display: none;\n",
       "}\n",
       "\n",
       ".xr-array-in:checked ~ .xr-array-data,\n",
       ".xr-array-preview {\n",
       "  display: inline-block;\n",
       "}\n",
       "\n",
       ".xr-dim-list {\n",
       "  display: inline-block !important;\n",
       "  list-style: none;\n",
       "  padding: 0 !important;\n",
       "  margin: 0;\n",
       "}\n",
       "\n",
       ".xr-dim-list li {\n",
       "  display: inline-block;\n",
       "  padding: 0;\n",
       "  margin: 0;\n",
       "}\n",
       "\n",
       ".xr-dim-list:before {\n",
       "  content: '(';\n",
       "}\n",
       "\n",
       ".xr-dim-list:after {\n",
       "  content: ')';\n",
       "}\n",
       "\n",
       ".xr-dim-list li:not(:last-child):after {\n",
       "  content: ',';\n",
       "  padding-right: 5px;\n",
       "}\n",
       "\n",
       ".xr-has-index {\n",
       "  font-weight: bold;\n",
       "}\n",
       "\n",
       ".xr-var-list,\n",
       ".xr-var-item {\n",
       "  display: contents;\n",
       "}\n",
       "\n",
       ".xr-var-item > div,\n",
       ".xr-var-item label,\n",
       ".xr-var-item > .xr-var-name span {\n",
       "  background-color: var(--xr-background-color-row-even);\n",
       "  margin-bottom: 0;\n",
       "}\n",
       "\n",
       ".xr-var-item > .xr-var-name:hover span {\n",
       "  padding-right: 5px;\n",
       "}\n",
       "\n",
       ".xr-var-list > li:nth-child(odd) > div,\n",
       ".xr-var-list > li:nth-child(odd) > label,\n",
       ".xr-var-list > li:nth-child(odd) > .xr-var-name span {\n",
       "  background-color: var(--xr-background-color-row-odd);\n",
       "}\n",
       "\n",
       ".xr-var-name {\n",
       "  grid-column: 1;\n",
       "}\n",
       "\n",
       ".xr-var-dims {\n",
       "  grid-column: 2;\n",
       "}\n",
       "\n",
       ".xr-var-dtype {\n",
       "  grid-column: 3;\n",
       "  text-align: right;\n",
       "  color: var(--xr-font-color2);\n",
       "}\n",
       "\n",
       ".xr-var-preview {\n",
       "  grid-column: 4;\n",
       "}\n",
       "\n",
       ".xr-var-name,\n",
       ".xr-var-dims,\n",
       ".xr-var-dtype,\n",
       ".xr-preview,\n",
       ".xr-attrs dt {\n",
       "  white-space: nowrap;\n",
       "  overflow: hidden;\n",
       "  text-overflow: ellipsis;\n",
       "  padding-right: 10px;\n",
       "}\n",
       "\n",
       ".xr-var-name:hover,\n",
       ".xr-var-dims:hover,\n",
       ".xr-var-dtype:hover,\n",
       ".xr-attrs dt:hover {\n",
       "  overflow: visible;\n",
       "  width: auto;\n",
       "  z-index: 1;\n",
       "}\n",
       "\n",
       ".xr-var-attrs,\n",
       ".xr-var-data {\n",
       "  display: none;\n",
       "  background-color: var(--xr-background-color) !important;\n",
       "  padding-bottom: 5px !important;\n",
       "}\n",
       "\n",
       ".xr-var-attrs-in:checked ~ .xr-var-attrs,\n",
       ".xr-var-data-in:checked ~ .xr-var-data {\n",
       "  display: block;\n",
       "}\n",
       "\n",
       ".xr-var-data > table {\n",
       "  float: right;\n",
       "}\n",
       "\n",
       ".xr-var-name span,\n",
       ".xr-var-data,\n",
       ".xr-attrs {\n",
       "  padding-left: 25px !important;\n",
       "}\n",
       "\n",
       ".xr-attrs,\n",
       ".xr-var-attrs,\n",
       ".xr-var-data {\n",
       "  grid-column: 1 / -1;\n",
       "}\n",
       "\n",
       "dl.xr-attrs {\n",
       "  padding: 0;\n",
       "  margin: 0;\n",
       "  display: grid;\n",
       "  grid-template-columns: 125px auto;\n",
       "}\n",
       "\n",
       ".xr-attrs dt,\n",
       ".xr-attrs dd {\n",
       "  padding: 0;\n",
       "  margin: 0;\n",
       "  float: left;\n",
       "  padding-right: 10px;\n",
       "  width: auto;\n",
       "}\n",
       "\n",
       ".xr-attrs dt {\n",
       "  font-weight: normal;\n",
       "  grid-column: 1;\n",
       "}\n",
       "\n",
       ".xr-attrs dt:hover span {\n",
       "  display: inline-block;\n",
       "  background: var(--xr-background-color);\n",
       "  padding-right: 10px;\n",
       "}\n",
       "\n",
       ".xr-attrs dd {\n",
       "  grid-column: 2;\n",
       "  white-space: pre-wrap;\n",
       "  word-break: break-all;\n",
       "}\n",
       "\n",
       ".xr-icon-database,\n",
       ".xr-icon-file-text2 {\n",
       "  display: inline-block;\n",
       "  vertical-align: middle;\n",
       "  width: 1em;\n",
       "  height: 1.5em !important;\n",
       "  stroke-width: 0;\n",
       "  stroke: currentColor;\n",
       "  fill: currentColor;\n",
       "}\n",
       "</style><pre class='xr-text-repr-fallback'>&lt;xarray.Dataset&gt;\n",
       "Dimensions:  (time: 365, lat: 600, lon: 1440)\n",
       "Coordinates:\n",
       "  * time     (time) datetime64[ns] 2014-01-01T12:00:00 ... 2014-12-31T12:00:00\n",
       "  * lat      (lat) float64 -59.88 -59.62 -59.38 -59.12 ... 89.38 89.62 89.88\n",
       "  * lon      (lon) float64 0.125 0.375 0.625 0.875 ... 359.1 359.4 359.6 359.9\n",
       "Data variables:\n",
       "    tasmax   (time, lat, lon) float32 ...\n",
       "Attributes: (12/23)\n",
       "    activity:                        NEX-GDDP-CMIP6\n",
       "    contact:                         Dr. Rama Nemani: rama.nemani@nasa.gov, D...\n",
       "    Conventions:                     CF-1.7\n",
       "    creation_date:                   2021-10-04T14:01:10.115281+00:00\n",
       "    frequency:                       day\n",
       "    institution:                     NASA Earth Exchange, NASA Ames Research ...\n",
       "    ...                              ...\n",
       "    disclaimer:                      This data is considered provisional and ...\n",
       "    external_variables:              areacella\n",
       "    cmip6_source_id:                 ACCESS-CM2\n",
       "    cmip6_institution_id:            CSIRO-ARCCSS\n",
       "    cmip6_license:                   CC-BY-SA 4.0\n",
       "    DODS_EXTRA.Unlimited_Dimension:  time</pre><div class='xr-wrap' style='display:none'><div class='xr-header'><div class='xr-obj-type'>xarray.Dataset</div></div><ul class='xr-sections'><li class='xr-section-item'><input id='section-1fc8dd19-1855-4ae2-b2f6-cc9cf37ed12c' class='xr-section-summary-in' type='checkbox' disabled ><label for='section-1fc8dd19-1855-4ae2-b2f6-cc9cf37ed12c' class='xr-section-summary'  title='Expand/collapse section'>Dimensions:</label><div class='xr-section-inline-details'><ul class='xr-dim-list'><li><span class='xr-has-index'>time</span>: 365</li><li><span class='xr-has-index'>lat</span>: 600</li><li><span class='xr-has-index'>lon</span>: 1440</li></ul></div><div class='xr-section-details'></div></li><li class='xr-section-item'><input id='section-3fbdbc78-88f0-4b3b-bc0a-bfe53fa92c41' class='xr-section-summary-in' type='checkbox'  checked><label for='section-3fbdbc78-88f0-4b3b-bc0a-bfe53fa92c41' class='xr-section-summary' >Coordinates: <span>(3)</span></label><div class='xr-section-inline-details'></div><div class='xr-section-details'><ul class='xr-var-list'><li class='xr-var-item'><div class='xr-var-name'><span class='xr-has-index'>time</span></div><div class='xr-var-dims'>(time)</div><div class='xr-var-dtype'>datetime64[ns]</div><div class='xr-var-preview xr-preview'>2014-01-01T12:00:00 ... 2014-12-...</div><input id='attrs-bb2a780b-6e40-4a0c-989f-7cf754390e56' class='xr-var-attrs-in' type='checkbox' ><label for='attrs-bb2a780b-6e40-4a0c-989f-7cf754390e56' title='Show/Hide attributes'><svg class='icon xr-icon-file-text2'><use xlink:href='#icon-file-text2'></use></svg></label><input id='data-62a55e2c-bde6-4849-b5c4-8df3bcd18c10' class='xr-var-data-in' type='checkbox'><label for='data-62a55e2c-bde6-4849-b5c4-8df3bcd18c10' title='Show/Hide data repr'><svg class='icon xr-icon-database'><use xlink:href='#icon-database'></use></svg></label><div class='xr-var-attrs'><dl class='xr-attrs'><dt><span>axis :</span></dt><dd>T</dd><dt><span>long_name :</span></dt><dd>time</dd><dt><span>standard_name :</span></dt><dd>time</dd><dt><span>_ChunkSizes :</span></dt><dd>512</dd></dl></div><div class='xr-var-data'><pre>array([&#x27;2014-01-01T12:00:00.000000000&#x27;, &#x27;2014-01-02T12:00:00.000000000&#x27;,\n",
       "       &#x27;2014-01-03T12:00:00.000000000&#x27;, ..., &#x27;2014-12-29T12:00:00.000000000&#x27;,\n",
       "       &#x27;2014-12-30T12:00:00.000000000&#x27;, &#x27;2014-12-31T12:00:00.000000000&#x27;],\n",
       "      dtype=&#x27;datetime64[ns]&#x27;)</pre></div></li><li class='xr-var-item'><div class='xr-var-name'><span class='xr-has-index'>lat</span></div><div class='xr-var-dims'>(lat)</div><div class='xr-var-dtype'>float64</div><div class='xr-var-preview xr-preview'>-59.88 -59.62 ... 89.62 89.88</div><input id='attrs-61d32abd-9442-4c82-9807-0304bffc7047' class='xr-var-attrs-in' type='checkbox' ><label for='attrs-61d32abd-9442-4c82-9807-0304bffc7047' title='Show/Hide attributes'><svg class='icon xr-icon-file-text2'><use xlink:href='#icon-file-text2'></use></svg></label><input id='data-af5e4d83-c2c4-4539-a150-3bda73680fdf' class='xr-var-data-in' type='checkbox'><label for='data-af5e4d83-c2c4-4539-a150-3bda73680fdf' title='Show/Hide data repr'><svg class='icon xr-icon-database'><use xlink:href='#icon-database'></use></svg></label><div class='xr-var-attrs'><dl class='xr-attrs'><dt><span>units :</span></dt><dd>degrees_north</dd><dt><span>standard_name :</span></dt><dd>latitude</dd><dt><span>long_name :</span></dt><dd>latitude</dd><dt><span>axis :</span></dt><dd>Y</dd><dt><span>_ChunkSizes :</span></dt><dd>600</dd></dl></div><div class='xr-var-data'><pre>array([-59.875, -59.625, -59.375, ...,  89.375,  89.625,  89.875])</pre></div></li><li class='xr-var-item'><div class='xr-var-name'><span class='xr-has-index'>lon</span></div><div class='xr-var-dims'>(lon)</div><div class='xr-var-dtype'>float64</div><div class='xr-var-preview xr-preview'>0.125 0.375 0.625 ... 359.6 359.9</div><input id='attrs-6810181f-c617-4c8d-b474-f5520199b8c3' class='xr-var-attrs-in' type='checkbox' ><label for='attrs-6810181f-c617-4c8d-b474-f5520199b8c3' title='Show/Hide attributes'><svg class='icon xr-icon-file-text2'><use xlink:href='#icon-file-text2'></use></svg></label><input id='data-503f3c97-d6b6-4e62-90a0-f0d2df2b4bed' class='xr-var-data-in' type='checkbox'><label for='data-503f3c97-d6b6-4e62-90a0-f0d2df2b4bed' title='Show/Hide data repr'><svg class='icon xr-icon-database'><use xlink:href='#icon-database'></use></svg></label><div class='xr-var-attrs'><dl class='xr-attrs'><dt><span>units :</span></dt><dd>degrees_east</dd><dt><span>standard_name :</span></dt><dd>longitude</dd><dt><span>long_name :</span></dt><dd>longitude</dd><dt><span>axis :</span></dt><dd>X</dd><dt><span>_ChunkSizes :</span></dt><dd>1440</dd></dl></div><div class='xr-var-data'><pre>array([1.25000e-01, 3.75000e-01, 6.25000e-01, ..., 3.59375e+02, 3.59625e+02,\n",
       "       3.59875e+02])</pre></div></li></ul></div></li><li class='xr-section-item'><input id='section-dfcef8c6-bc61-42d7-abf3-ad2ac708f37b' class='xr-section-summary-in' type='checkbox'  checked><label for='section-dfcef8c6-bc61-42d7-abf3-ad2ac708f37b' class='xr-section-summary' >Data variables: <span>(1)</span></label><div class='xr-section-inline-details'></div><div class='xr-section-details'><ul class='xr-var-list'><li class='xr-var-item'><div class='xr-var-name'><span>tasmax</span></div><div class='xr-var-dims'>(time, lat, lon)</div><div class='xr-var-dtype'>float32</div><div class='xr-var-preview xr-preview'>...</div><input id='attrs-9ba7f619-df1f-4983-8e89-531d0c117bf3' class='xr-var-attrs-in' type='checkbox' ><label for='attrs-9ba7f619-df1f-4983-8e89-531d0c117bf3' title='Show/Hide attributes'><svg class='icon xr-icon-file-text2'><use xlink:href='#icon-file-text2'></use></svg></label><input id='data-93019822-b69b-404a-9378-ed5694143d6e' class='xr-var-data-in' type='checkbox'><label for='data-93019822-b69b-404a-9378-ed5694143d6e' title='Show/Hide data repr'><svg class='icon xr-icon-database'><use xlink:href='#icon-database'></use></svg></label><div class='xr-var-attrs'><dl class='xr-attrs'><dt><span>standard_name :</span></dt><dd>air_temperature</dd><dt><span>long_name :</span></dt><dd>Daily Maximum Near-Surface Air Temperature</dd><dt><span>units :</span></dt><dd>K</dd><dt><span>comment :</span></dt><dd>maximum near-surface (usually, 2 meter) air temperature (add cell_method attribute &#x27;time: max&#x27;)</dd><dt><span>cell_methods :</span></dt><dd>area: mean time: maximum</dd><dt><span>cell_measures :</span></dt><dd>area: areacella</dd><dt><span>_ChunkSizes :</span></dt><dd>[   1  600 1440]</dd></dl></div><div class='xr-var-data'><pre>[315360000 values with dtype=float32]</pre></div></li></ul></div></li><li class='xr-section-item'><input id='section-328c9171-30fe-4968-8011-73e8f15fcc23' class='xr-section-summary-in' type='checkbox'  ><label for='section-328c9171-30fe-4968-8011-73e8f15fcc23' class='xr-section-summary' >Attributes: <span>(23)</span></label><div class='xr-section-inline-details'></div><div class='xr-section-details'><dl class='xr-attrs'><dt><span>activity :</span></dt><dd>NEX-GDDP-CMIP6</dd><dt><span>contact :</span></dt><dd>Dr. Rama Nemani: rama.nemani@nasa.gov, Dr. Bridget Thrasher: bridget@climateanalyticsgroup.org</dd><dt><span>Conventions :</span></dt><dd>CF-1.7</dd><dt><span>creation_date :</span></dt><dd>2021-10-04T14:01:10.115281+00:00</dd><dt><span>frequency :</span></dt><dd>day</dd><dt><span>institution :</span></dt><dd>NASA Earth Exchange, NASA Ames Research Center, Moffett Field, CA 94035</dd><dt><span>variant_label :</span></dt><dd>r1i1p1f1</dd><dt><span>product :</span></dt><dd>output</dd><dt><span>realm :</span></dt><dd>atmos</dd><dt><span>source :</span></dt><dd>BCSD</dd><dt><span>scenario :</span></dt><dd>historical</dd><dt><span>references :</span></dt><dd>BCSD method: Thrasher et al., 2012, Hydrol. Earth Syst. Sci.,16, 3309-3314. Ref period obs: latest version of the Princeton Global Meteorological Forcings (http://hydrology.princeton.edu/data.php), based on Sheffield et al., 2006, J. Climate, 19 (13), 3088-3111.</dd><dt><span>version :</span></dt><dd>1.0</dd><dt><span>tracking_id :</span></dt><dd>f8fb49c2-ee4c-46fb-b36d-00dfb2cace23</dd><dt><span>title :</span></dt><dd>ACCESS-CM2, r1i1p1f1, historical, global downscaled CMIP6 climate projection data</dd><dt><span>resolution_id :</span></dt><dd>0.25 degree</dd><dt><span>history :</span></dt><dd>2021-10-04T14:01:10.115281+00:00: install global attributes</dd><dt><span>disclaimer :</span></dt><dd>This data is considered provisional and subject to change. This data is provided as is without any warranty of any kind, either express or implied, arising by law or otherwise, including but not limited to warranties of completeness, non-infringement, accuracy, merchantability, or fitness for a particular purpose. The user assumes all risk associated with the use of, or inability to use, this data.</dd><dt><span>external_variables :</span></dt><dd>areacella</dd><dt><span>cmip6_source_id :</span></dt><dd>ACCESS-CM2</dd><dt><span>cmip6_institution_id :</span></dt><dd>CSIRO-ARCCSS</dd><dt><span>cmip6_license :</span></dt><dd>CC-BY-SA 4.0</dd><dt><span>DODS_EXTRA.Unlimited_Dimension :</span></dt><dd>time</dd></dl></div></li></ul></div></div>"
      ],
      "text/plain": [
       "<xarray.Dataset>\n",
       "Dimensions:  (time: 365, lat: 600, lon: 1440)\n",
       "Coordinates:\n",
       "  * time     (time) datetime64[ns] 2014-01-01T12:00:00 ... 2014-12-31T12:00:00\n",
       "  * lat      (lat) float64 -59.88 -59.62 -59.38 -59.12 ... 89.38 89.62 89.88\n",
       "  * lon      (lon) float64 0.125 0.375 0.625 0.875 ... 359.1 359.4 359.6 359.9\n",
       "Data variables:\n",
       "    tasmax   (time, lat, lon) float32 ...\n",
       "Attributes: (12/23)\n",
       "    activity:                        NEX-GDDP-CMIP6\n",
       "    contact:                         Dr. Rama Nemani: rama.nemani@nasa.gov, D...\n",
       "    Conventions:                     CF-1.7\n",
       "    creation_date:                   2021-10-04T14:01:10.115281+00:00\n",
       "    frequency:                       day\n",
       "    institution:                     NASA Earth Exchange, NASA Ames Research ...\n",
       "    ...                              ...\n",
       "    disclaimer:                      This data is considered provisional and ...\n",
       "    external_variables:              areacella\n",
       "    cmip6_source_id:                 ACCESS-CM2\n",
       "    cmip6_institution_id:            CSIRO-ARCCSS\n",
       "    cmip6_license:                   CC-BY-SA 4.0\n",
       "    DODS_EXTRA.Unlimited_Dimension:  time"
      ]
     },
     "execution_count": 8,
     "metadata": {},
     "output_type": "execute_result"
    }
   ],
   "source": [
    "dset"
   ]
  },
  {
   "cell_type": "code",
   "execution_count": 9,
   "id": "7db63e5c-def3-4384-b1d4-6e47127cccb1",
   "metadata": {},
   "outputs": [
    {
     "data": {
      "text/plain": [
       "<matplotlib.collections.QuadMesh at 0x7f839b8214c0>"
      ]
     },
     "execution_count": 9,
     "metadata": {},
     "output_type": "execute_result"
    },
    {
     "data": {
      "image/png": "[encoded data removed]",
      "text/plain": [
       "<Figure size 432x288 with 2 Axes>"
      ]
     },
     "metadata": {
      "needs_background": "light"
     },
     "output_type": "display_data"
    }
   ],
   "source": [
    "dset['tasmax'][0,:,:].plot()"
   ]
  },
  {
   "cell_type": "code",
   "execution_count": 10,
   "id": "baae6f3a-5a66-4d1f-bce8-6061b8f0a567",
   "metadata": {},
   "outputs": [],
   "source": [
    "dset.close()"
   ]
  },
  {
   "cell_type": "markdown",
   "id": "11c466cd-626f-4cc5-a641-0fae9b1e2990",
   "metadata": {},
   "source": [
    "## Bias-corrected CMIP6 global dataset for dynamical downscaling of the historical and future climate (1979–2100)"
   ]
  },
  {
   "cell_type": "markdown",
   "id": "18834805-29d2-4179-878a-d139deb50774",
   "metadata": {},
   "source": [
    "Xu, Z., Y. Han, C.-Y. Tam, Z.-L. Yang, and C. Fu, 2021: Bias-corrected CMIP6 global dataset for dynamical downscaling of the historical and future climate (1979–2100). Sci Data, 8, 293, https://doi.org/10.1038/s41597-021-01079-3.\n"
   ]
  },
  {
   "cell_type": "markdown",
   "id": "490495a0-b84b-4731-bf36-867b2611821b",
   "metadata": {},
   "source": [
    "data available for **download** at: \n",
    "    \n",
    "- [https://www.scidb.cn/en/detail?dataSetId=791587189614968832&dataSetType=personal](https://www.scidb.cn/en/detail?dataSetId=791587189614968832&dataSetType=personal)"
   ]
  },
  {
   "cell_type": "markdown",
   "id": "c1e561a6-d639-4aa1-a093-ac2d75693536",
   "metadata": {},
   "source": [
    "## Microsoft Planetary's computer CIL Global Downscaled Projections for Climate Impacts Research"
   ]
  },
  {
   "cell_type": "markdown",
   "id": "05ac8fe9-7c8e-4417-9623-08350b8b83cf",
   "metadata": {},
   "source": [
    "see https://planetarycomputer.microsoft.com/dataset/group/cil-gdpcir "
   ]
  },
  {
   "cell_type": "code",
   "execution_count": 11,
   "id": "c1f04699-695e-4fe9-aa34-879454f1b6d2",
   "metadata": {},
   "outputs": [
    {
     "data": {
      "text/html": [
       "\n",
       "        <iframe\n",
       "            width=\"1000\"\n",
       "            height=\"700\"\n",
       "            src=\"https://planetarycomputer.microsoft.com/dataset/group/cil-gdpcir\"\n",
       "            frameborder=\"0\"\n",
       "            allowfullscreen\n",
       "            \n",
       "        ></iframe>\n",
       "        "
      ],
      "text/plain": [
       "<IPython.lib.display.IFrame at 0x7f839b6d02b0>"
      ]
     },
     "execution_count": 11,
     "metadata": {},
     "output_type": "execute_result"
    }
   ],
   "source": [
    "IFrame('https://planetarycomputer.microsoft.com/dataset/group/cil-gdpcir', width=1000, height=700)"
   ]
  },
  {
   "cell_type": "code",
   "execution_count": null,
   "id": "bf7bbbea-f748-4c7b-a272-3d93c421682f",
   "metadata": {},
   "outputs": [],
   "source": []
  }
 ],
 "metadata": {
  "kernelspec": {
   "display_name": "Python 3 (ipykernel)",
   "language": "python",
   "name": "python3"
  },
  "language_info": {
   "codemirror_mode": {
    "name": "ipython",
    "version": 3
   },
   "file_extension": ".py",
   "mimetype": "text/x-python",
   "name": "python",
   "nbconvert_exporter": "python",
   "pygments_lexer": "ipython3",
   "version": "3.8.13"
  }
 },
 "nbformat": 4,
 "nbformat_minor": 5
}
